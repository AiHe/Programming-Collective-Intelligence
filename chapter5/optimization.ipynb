{
 "cells": [
  {
   "cell_type": "code",
   "execution_count": 1,
   "metadata": {
    "collapsed": false
   },
   "outputs": [
    {
     "data": {
      "text/plain": []
     },
     "metadata": {},
     "output_type": "display_data"
    }
   ],
   "source": [
    "load.jar(\"target/scala-2.11/chapter5_2.11-1.0.jar\")"
   ]
  },
  {
   "cell_type": "code",
   "execution_count": 2,
   "metadata": {
    "collapsed": false
   },
   "outputs": [
    {
     "data": {
      "text/plain": [
       "\u001b[36mres1\u001b[0m: \u001b[32mGroupTravel\u001b[0m.type = GroupTravel$@3ca18b7b"
      ]
     },
     "metadata": {},
     "output_type": "display_data"
    }
   ],
   "source": [
    "GroupTravel"
   ]
  },
  {
   "cell_type": "code",
   "execution_count": 3,
   "metadata": {
    "collapsed": false
   },
   "outputs": [
    {
     "name": "stdout",
     "output_type": "stream",
     "text": [
      "   Seymour       BOS 08:04-10:11 $ 95 12:08-14:05 $142\n",
      "    Franny       DAL 10:30-14:57 $290 09:49-13:51 $229\n",
      "     Zooey       CAK 17:08-19:08 $262 10:32-13:16 $139\n",
      "      Walt       MIA 15:34-18:11 $326 11:08-14:38 $262\n",
      "     Buddy       ORD 09:42-11:32 $169 12:08-14:47 $231\n",
      "       Les       OMA 13:37-15:08 $250 11:07-13:24 $171\n"
     ]
    },
    {
     "data": {
      "text/plain": []
     },
     "metadata": {},
     "output_type": "display_data"
    }
   ],
   "source": [
    "GroupTravel.printSchedule(Seq(1,4,3,2,7,3,6,3,2,4,5,3))"
   ]
  },
  {
   "cell_type": "code",
   "execution_count": 4,
   "metadata": {
    "collapsed": false
   },
   "outputs": [
    {
     "data": {
      "text/plain": [
       "\u001b[36mres3\u001b[0m: \u001b[32mString\u001b[0m = \u001b[32m\"LGA\"\u001b[0m"
      ]
     },
     "metadata": {},
     "output_type": "display_data"
    }
   ],
   "source": [
    "GroupTravel.destination"
   ]
  },
  {
   "cell_type": "code",
   "execution_count": 5,
   "metadata": {
    "collapsed": false
   },
   "outputs": [
    {
     "data": {
      "text/plain": [
       "\u001b[36mres4\u001b[0m: \u001b[32mInt\u001b[0m = \u001b[32m4635\u001b[0m"
      ]
     },
     "metadata": {},
     "output_type": "display_data"
    }
   ],
   "source": [
    "GroupTravel.scheduleCost(Seq(1,4,3,2,7,3,6,3,2,4,5,3))"
   ]
  },
  {
   "cell_type": "code",
   "execution_count": 6,
   "metadata": {
    "collapsed": false
   },
   "outputs": [
    {
     "data": {
      "text/plain": [
       "\u001b[36mdomain\u001b[0m: \u001b[32mArray\u001b[0m[(\u001b[32mInt\u001b[0m, \u001b[32mInt\u001b[0m)] = \u001b[33mArray\u001b[0m(\n",
       "  \u001b[33m\u001b[0m(\u001b[32m0\u001b[0m, \u001b[32m8\u001b[0m),\n",
       "  \u001b[33m\u001b[0m(\u001b[32m0\u001b[0m, \u001b[32m8\u001b[0m),\n",
       "  \u001b[33m\u001b[0m(\u001b[32m0\u001b[0m, \u001b[32m8\u001b[0m),\n",
       "  \u001b[33m\u001b[0m(\u001b[32m0\u001b[0m, \u001b[32m8\u001b[0m),\n",
       "  \u001b[33m\u001b[0m(\u001b[32m0\u001b[0m, \u001b[32m8\u001b[0m),\n",
       "  \u001b[33m\u001b[0m(\u001b[32m0\u001b[0m, \u001b[32m8\u001b[0m),\n",
       "  \u001b[33m\u001b[0m(\u001b[32m0\u001b[0m, \u001b[32m8\u001b[0m),\n",
       "  \u001b[33m\u001b[0m(\u001b[32m0\u001b[0m, \u001b[32m8\u001b[0m),\n",
       "  \u001b[33m\u001b[0m(\u001b[32m0\u001b[0m, \u001b[32m8\u001b[0m),\n",
       "  \u001b[33m\u001b[0m(\u001b[32m0\u001b[0m, \u001b[32m8\u001b[0m),\n",
       "  \u001b[33m\u001b[0m(\u001b[32m0\u001b[0m, \u001b[32m8\u001b[0m),\n",
       "  \u001b[33m\u001b[0m(\u001b[32m0\u001b[0m, \u001b[32m8\u001b[0m)\n",
       ")"
      ]
     },
     "metadata": {},
     "output_type": "display_data"
    }
   ],
   "source": [
    "val domain = Array.fill[(Int, Int)](GroupTravel.people.size * 2)((0, 8))"
   ]
  },
  {
   "cell_type": "code",
   "execution_count": 7,
   "metadata": {
    "collapsed": false
   },
   "outputs": [
    {
     "name": "stdout",
     "output_type": "stream",
     "text": [
      "4072\n",
      "   Seymour       BOS 08:04-10:11 $ 95 09:58-11:18 $130\n",
      "    Franny       DAL 09:08-12:12 $364 10:51-14:16 $256\n",
      "     Zooey       CAK 12:08-14:59 $149 13:37-15:33 $142\n",
      "      Walt       MIA 11:28-14:40 $248 09:25-12:46 $295\n",
      "     Buddy       ORD 08:25-10:34 $157 15:04-17:23 $189\n",
      "       Les       OMA 09:15-12:03 $ 99 11:07-13:24 $171\n"
     ]
    },
    {
     "data": {
      "text/plain": [
       "\u001b[36ms\u001b[0m: \u001b[32mSeq\u001b[0m[\u001b[32mInt\u001b[0m] = \u001b[33mArrayBuffer\u001b[0m(\n",
       "  \u001b[32m1\u001b[0m,\n",
       "  \u001b[32m2\u001b[0m,\n",
       "  \u001b[32m2\u001b[0m,\n",
       "  \u001b[32m3\u001b[0m,\n",
       "  \u001b[32m4\u001b[0m,\n",
       "  \u001b[32m5\u001b[0m,\n",
       "  \u001b[32m3\u001b[0m,\n",
       "  \u001b[32m2\u001b[0m,\n",
       "  \u001b[32m1\u001b[0m,\n",
       "  \u001b[32m6\u001b[0m,\n",
       "  \u001b[32m2\u001b[0m,\n",
       "  \u001b[32m3\u001b[0m\n",
       ")"
      ]
     },
     "metadata": {},
     "output_type": "display_data"
    }
   ],
   "source": [
    "val s = GroupTravel.randomOptimize(domain, GroupTravel.scheduleCost)\n",
    "println(GroupTravel.scheduleCost(s))\n",
    "GroupTravel.printSchedule(s)"
   ]
  },
  {
   "cell_type": "code",
   "execution_count": 12,
   "metadata": {
    "collapsed": false,
    "scrolled": false
   },
   "outputs": [
    {
     "data": {
      "text/plain": [
       "\u001b[36ms\u001b[0m: \u001b[32mSeq\u001b[0m[\u001b[32mInt\u001b[0m] = \u001b[33mArrayBuffer\u001b[0m(\n",
       "  \u001b[32m5\u001b[0m,\n",
       "  \u001b[32m3\u001b[0m,\n",
       "  \u001b[32m3\u001b[0m,\n",
       "  \u001b[32m3\u001b[0m,\n",
       "  \u001b[32m1\u001b[0m,\n",
       "  \u001b[32m5\u001b[0m,\n",
       "  \u001b[32m3\u001b[0m,\n",
       "  \u001b[32m4\u001b[0m,\n",
       "  \u001b[32m5\u001b[0m,\n",
       "  \u001b[32m3\u001b[0m,\n",
       "  \u001b[32m6\u001b[0m,\n",
       "  \u001b[32m3\u001b[0m\n",
       ")"
      ]
     },
     "metadata": {},
     "output_type": "display_data"
    }
   ],
   "source": [
    "val s = GroupTravel.hillClimb(domain, GroupTravel.scheduleCost, maxIter=10000)"
   ]
  },
  {
   "cell_type": "code",
   "execution_count": 13,
   "metadata": {
    "collapsed": false
   },
   "outputs": [
    {
     "data": {
      "text/plain": [
       "\u001b[36mres12\u001b[0m: \u001b[32mInt\u001b[0m = \u001b[32m3090\u001b[0m"
      ]
     },
     "metadata": {},
     "output_type": "display_data"
    }
   ],
   "source": [
    "GroupTravel.scheduleCost(s)"
   ]
  },
  {
   "cell_type": "code",
   "execution_count": null,
   "metadata": {
    "collapsed": true
   },
   "outputs": [],
   "source": []
  }
 ],
 "metadata": {
  "kernelspec": {
   "display_name": "Scala 2.11",
   "language": "scala211",
   "name": "scala211"
  },
  "language_info": {
   "codemirror_mode": "text/x-scala",
   "file_extension": "scala",
   "mimetype": "text/x-scala",
   "name": "scala211",
   "pygments_lexer": "scala",
   "version": "2.11.6"
  }
 },
 "nbformat": 4,
 "nbformat_minor": 0
}
