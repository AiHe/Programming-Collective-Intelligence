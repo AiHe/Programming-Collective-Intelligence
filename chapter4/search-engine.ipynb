{
 "cells": [
  {
   "cell_type": "code",
   "execution_count": 2,
   "metadata": {
    "collapsed": false
   },
   "outputs": [
    {
     "name": "stderr",
     "output_type": "stream",
     "text": [
      ":: problems summary ::\n"
     ]
    },
    {
     "name": "stdout",
     "output_type": "stream",
     "text": [
      ":::: WARNINGS\n"
     ]
    },
    {
     "name": "stderr",
     "output_type": "stream",
     "text": [
      ":::: ERRORS\n",
      "\tunknown resolver null\n",
      "\n",
      "\tunknown resolver null\n",
      "\n",
      "\tunknown resolver null\n",
      "\n",
      "\tunknown resolver null\n",
      "\n"
     ]
    },
    {
     "name": "stdout",
     "output_type": "stream",
     "text": [
      "\tUnable to reparse com.github.alexarchambault.jupyter#jupyter-scala-api_2.11.6;0.2.0-SNAPSHOT from sonatype-snapshots, using Sun Nov 22 15:26:47 PST 2015\n",
      "\n",
      "\tChoosing sonatype-snapshots for com.github.alexarchambault.jupyter#jupyter-scala-api_2.11.6;0.2.0-SNAPSHOT\n",
      "\n",
      "\tUnable to reparse com.github.alexarchambault#ammonite-api_2.11.6;0.3.1-SNAPSHOT from sonatype-snapshots, using Wed Oct 21 02:43:36 PDT 2015\n",
      "\n",
      "\tChoosing sonatype-snapshots for com.github.alexarchambault#ammonite-api_2.11.6;0.3.1-SNAPSHOT\n",
      "\n",
      "\tUnable to reparse com.github.alexarchambault.jupyter#jupyter-api_2.11;0.2.0-SNAPSHOT from sonatype-snapshots, using Wed Oct 21 08:03:52 PDT 2015\n",
      "\n",
      "\tChoosing sonatype-snapshots for com.github.alexarchambault.jupyter#jupyter-api_2.11;0.2.0-SNAPSHOT\n",
      "\n"
     ]
    },
    {
     "data": {
      "text/plain": []
     },
     "metadata": {},
     "output_type": "display_data"
    }
   ],
   "source": [
    "load.ivy(\"org.scala-lang.modules\" %% \"scala-xml\" % \"1.0.5\")"
   ]
  },
  {
   "cell_type": "code",
   "execution_count": 5,
   "metadata": {
    "collapsed": false
   },
   "outputs": [
    {
     "data": {
      "text/plain": [
       "\u001b[32mimport \u001b[36mscala.xml.parsing.XhtmlParser\u001b[0m"
      ]
     },
     "metadata": {},
     "output_type": "display_data"
    }
   ],
   "source": [
    "import scala.xml.parsing.XhtmlParser"
   ]
  },
  {
   "cell_type": "code",
   "execution_count": 6,
   "metadata": {
    "collapsed": false
   },
   "outputs": [
    {
     "data": {
      "text/plain": [
       "\u001b[36mweather\u001b[0m: \u001b[32mxml\u001b[0m.\u001b[32mElem\u001b[0m = \u001b[33mElem\u001b[0m(\n",
       "  <rss>\n",
       "  <channel>\n",
       "    <title>Yahoo! Weather - Boulder, CO</title>\n",
       "    <item>\n",
       "     <title>Conditions for Boulder, CO at 2:54 pm MST</title>\n",
       "     <forecast day=\"Thu\" date=\"10 Nov 2011\" low=\"37\" high=\"58\" text=\"Partly Cloudy\" code=\"29\" href=\"http://heai.me\"/>\n",
       "    </item>\n",
       "    <item>\n",
       "     <title>Conditions for Boulder, CO at 2:54 pm MST</title>\n",
       "     <forecast day=\"Thu\" date=\"10 Nov 2011\" low=\"37\" high=\"58\" text=\"Partly Cloudy\" code=\"29\" href=\"http://yingwang.me\"/>\n",
       "    </item>\n",
       "         \n",
       "\u001b[33m...\u001b[0m"
      ]
     },
     "metadata": {},
     "output_type": "display_data"
    }
   ],
   "source": [
    "val weather = \n",
    "<rss>\n",
    "  <channel>\n",
    "    <title>Yahoo! Weather - Boulder, CO</title>\n",
    "    <item>\n",
    "     <title>Conditions for Boulder, CO at 2:54 pm MST</title>\n",
    "     <forecast day=\"Thu\" date=\"10 Nov 2011\" low=\"37\" high=\"58\" text=\"Partly Cloudy\"   \n",
    "               code=\"29\" href=\"http://heai.me\"/>\n",
    "    </item>\n",
    "    <item>\n",
    "     <title>Conditions for Boulder, CO at 2:54 pm MST</title>\n",
    "     <forecast day=\"Thu\" date=\"10 Nov 2011\" low=\"37\" high=\"58\" text=\"Partly Cloudy\"   \n",
    "               code=\"29\" href=\"http://yingwang.me\"/>\n",
    "    </item>\n",
    "         \n",
    "  </channel>\n",
    "</rss>"
   ]
  },
  {
   "cell_type": "code",
   "execution_count": 8,
   "metadata": {
    "collapsed": false,
    "scrolled": true
   },
   "outputs": [
    {
     "data": {
      "text/plain": [
       "\u001b[36mfs\u001b[0m: \u001b[32mxml\u001b[0m.\u001b[32mNodeSeq\u001b[0m = \u001b[33mNodeSeq\u001b[0m(\n",
       "  <forecast day=\"Thu\" date=\"10 Nov 2011\" low=\"37\" high=\"58\" text=\"Partly Cloudy\" code=\"29\" href=\"http://heai.me\"/>,\n",
       "  <forecast day=\"Thu\" date=\"10 Nov 2011\" low=\"37\" high=\"58\" text=\"Partly Cloudy\" code=\"29\" href=\"http://yingwang.me\"/>\n",
       ")"
      ]
     },
     "metadata": {},
     "output_type": "display_data"
    }
   ],
   "source": [
    "val fs = weather \\\\ \"forecast\""
   ]
  },
  {
   "cell_type": "code",
   "execution_count": 9,
   "metadata": {
    "collapsed": false
   },
   "outputs": [
    {
     "data": {
      "text/plain": [
       "\u001b[36mres7\u001b[0m: \u001b[32mcollection\u001b[0m.\u001b[32mimmutable\u001b[0m.\u001b[32mSeq\u001b[0m[\u001b[32mxml\u001b[0m.\u001b[32mNodeSeq\u001b[0m] = \u001b[33mList\u001b[0m(\u001b[33mNodeSeq\u001b[0m(http://heai.me), \u001b[33mNodeSeq\u001b[0m(http://yingwang.me))"
      ]
     },
     "metadata": {},
     "output_type": "display_data"
    }
   ],
   "source": [
    "fs.map(_ \\\\ \"@href\")"
   ]
  },
  {
   "cell_type": "code",
   "execution_count": 10,
   "metadata": {
    "collapsed": false
   },
   "outputs": [
    {
     "data": {
      "text/plain": [
       "\u001b[36mres8\u001b[0m: \u001b[32mxml\u001b[0m.\u001b[32mNodeSeq\u001b[0m = \u001b[33mNodeSeq\u001b[0m(http://heai.me, http://yingwang.me)"
      ]
     },
     "metadata": {},
     "output_type": "display_data"
    }
   ],
   "source": [
    "weather \\\\ \"@href\""
   ]
  },
  {
   "cell_type": "code",
   "execution_count": 34,
   "metadata": {
    "collapsed": false
   },
   "outputs": [
    {
     "data": {
      "text/plain": [
       "\u001b[36mres29\u001b[0m: \u001b[32mString\u001b[0m = \u001b[32m\"\"\u001b[0m"
      ]
     },
     "metadata": {},
     "output_type": "display_data"
    }
   ],
   "source": [
    "(weather \\\\ \"@a\").text"
   ]
  },
  {
   "cell_type": "code",
   "execution_count": null,
   "metadata": {
    "collapsed": true
   },
   "outputs": [],
   "source": []
  },
  {
   "cell_type": "code",
   "execution_count": 1,
   "metadata": {
    "collapsed": false
   },
   "outputs": [
    {
     "data": {
      "text/plain": []
     },
     "metadata": {},
     "output_type": "display_data"
    }
   ],
   "source": [
    "load.jar(\"target/scala-2.11/chapter4_2.11-1.0.jar\")"
   ]
  },
  {
   "cell_type": "code",
   "execution_count": 2,
   "metadata": {
    "collapsed": false
   },
   "outputs": [
    {
     "data": {
      "text/plain": [
       "\u001b[36mcrawler\u001b[0m: \u001b[32mSearchEngine\u001b[0m.\u001b[32mCrawler\u001b[0m = SearchEngine$Crawler@6b3e9b1d"
      ]
     },
     "metadata": {},
     "output_type": "display_data"
    }
   ],
   "source": [
    "val crawler = new SearchEngine.Crawler(\"\")"
   ]
  },
  {
   "cell_type": "code",
   "execution_count": 3,
   "metadata": {
    "collapsed": false
   },
   "outputs": [
    {
     "name": "stderr",
     "output_type": "stream",
     "text": [
      ":1:15: whitespace expected              ^"
     ]
    },
    {
     "name": "stdout",
     "output_type": "stream",
     "text": [
      "List()[0];a.async=1;a.src=g;m.parentNode.insertBefore(a,m)\n",
      "  })(window,document,'script','//www.google-analytics.com/analytics.js','ga');\n",
      "\n",
      "  ga('create', 'UA-54880616-1', 'auto');\n",
      "  ga('send', 'pageview');\n",
      "\n",
      ")"
     ]
    },
    {
     "name": "stderr",
     "output_type": "stream",
     "text": [
      "\n",
      ":7:2: document must contain exactly one element    </div> ^\n"
     ]
    },
    {
     "name": "stdout",
     "output_type": "stream",
     "text": [
      "\n",
      "Indexing http://heai.me\n",
      "aihe\n"
     ]
    },
    {
     "ename": "",
     "evalue": "",
     "output_type": "error",
     "traceback": [
      "java.lang.NullPointerException",
      "\tscala.xml.NodeSeq.iterator(NodeSeq.scala:53)",
      "\tscala.collection.IterableLike$class.foreach(IterableLike.scala:72)",
      "\tscala.collection.AbstractIterable.foreach(Iterable.scala:54)",
      "\tscala.collection.TraversableLike$class.flatMap(TraversableLike.scala:252)",
      "\tscala.collection.AbstractTraversable.flatMap(Traversable.scala:104)",
      "\tscala.xml.NodeSeq.filt$1(NodeSeq.scala:144)",
      "\tscala.xml.NodeSeq.$bslash$bslash(NodeSeq.scala:148)",
      "\tSearchEngine$Crawler$$anonfun$crawl$1.apply(SearchEngine.scala:88)",
      "\tSearchEngine$Crawler$$anonfun$crawl$1.apply(SearchEngine.scala:81)",
      "\tscala.collection.immutable.Set$Set1.foreach(Set.scala:79)",
      "\tSearchEngine$Crawler.crawl(SearchEngine.scala:81)",
      "\tcmd2$$user$$anonfun$1.apply$mcV$sp(Main.scala:53)"
     ]
    }
   ],
   "source": [
    "crawler.crawl(Set(\"http://heai.me\"))"
   ]
  },
  {
   "cell_type": "code",
   "execution_count": null,
   "metadata": {
    "collapsed": true
   },
   "outputs": [],
   "source": []
  },
  {
   "cell_type": "code",
   "execution_count": 11,
   "metadata": {
    "collapsed": false
   },
   "outputs": [
    {
     "data": {
      "text/plain": [
       "\u001b[32mimport \u001b[36mscala.io.Source\u001b[0m"
      ]
     },
     "metadata": {},
     "output_type": "display_data"
    }
   ],
   "source": [
    "import scala.io.Source"
   ]
  },
  {
   "cell_type": "code",
   "execution_count": 26,
   "metadata": {
    "collapsed": false
   },
   "outputs": [
    {
     "data": {
      "text/plain": [
       "\u001b[36ms\u001b[0m: \u001b[32mio\u001b[0m.\u001b[32mBufferedSource\u001b[0m = non-empty iterator"
      ]
     },
     "metadata": {},
     "output_type": "display_data"
    }
   ],
   "source": [
    "val s = Source.fromURL(\"http://nba.com\")"
   ]
  },
  {
   "cell_type": "code",
   "execution_count": 25,
   "metadata": {
    "collapsed": false
   },
   "outputs": [
    {
     "data": {
      "text/plain": [
       "\u001b[36mres22\u001b[0m: \u001b[32mList\u001b[0m[\u001b[32mString\u001b[0m] = \u001b[33mList\u001b[0m(\n",
       "  \u001b[32m\"\"\"\n",
       "<!doctype html> <html lang=\"en\"> <head> <meta http-equiv=\"X-UA-Compatible\" content=\"IE=edge\"> <meta charset=\"utf-8\"> <title>NBA.com</title> <link rel=\"canonical\" href=\"http://www.nba.com\"/> <link rel=\"icon\" href=\"http://i.cdn.turner.com/nba/tmpl_asset/static/nba-cms3-homepage/1641/elements/global/favicon16.ico\" type=\"image/x-icon\" /> <link rel=\"apple-touch-icon\" href=\"http://i.cdn.turner.com/nba/tmpl_asset/static/nba-cms3-homepage/1641/dep/nba-cms3-mobile/elements/apple-touch-icon.png\" type=\"image/png\" /> <meta name=\"description\" content=\"The official site of the National Basketball Association. Includes news, features, multimedia, player profiles, chat transcripts, schedules and statistics.\" /> <meta name=\"keywords\" content=\"NBA.com\" /> <meta name=\"viewport\" content=\"width=1000\" /> <script type=\"text/javascript\"> var dataEnv = \"http://data.nba.com\"; </script>  \n",
       "  \"\"\"\u001b[0m,\n",
       "  \u001b[32m\"\"\u001b[0m,\n",
       "  \u001b[32m\"\"\u001b[0m,\n",
       "  \u001b[32m\"\"\u001b[0m,\n",
       "\u001b[33m...\u001b[0m"
      ]
     },
     "metadata": {},
     "output_type": "display_data"
    }
   ],
   "source": [
    "s.getLines().toList"
   ]
  },
  {
   "cell_type": "code",
   "execution_count": 27,
   "metadata": {
    "collapsed": false,
    "scrolled": false
   },
   "outputs": [
    {
     "name": "stderr",
     "output_type": "stream",
     "text": [
      ":1:3: '-' expected instead of 'd'octype html> <html lang=\"en\"> <head> <meta http-equiv=\"X-UA-Compatible\" content=\"IE=edge\"> <meta charset=\"utf-8\"> <title>NBA.com</title> <link rel=\"canonical\" href=\"http://www.nba.com\"/> <link rel=\"icon\" href=\"http://i.cdn.turner.com/nba/tmpl_asset/static/nba-cms3-homepage/1641/elements/global/favicon16.ico\" type=\"image/x-icon\" /> <link rel=\"apple-touch-icon\" href=\"http://i.cdn.turner.com/nba/tmpl_asset/static/nba-cms3-homepage/1641/dep/nba-cms3-mobile/elements/apple-touch-icon.png\" type=\"image/png\" /> <meta name=\"description\" content=\"The official site of the National Basketball Association. Includes news, features, multimedia, player profiles, chat transcripts, schedules and statistics.\" /> <meta name=\"keywords\" content=\"NBA.com\" /> <meta name=\"viewport\" content=\"width=1000\" /> <script type=\"text/javascript\"> var dataEnv = \"http://data.nba.com\"; </script>    ^\n",
      ":1:3: '-' expected instead of 'd'avascript\" src= \"http://z.cdn.turner.com/nba/tmpl_asset/static/nba-cms3-desktop/1541/js/pkgThemeGeneral-min.js\" ></script> <script type=\"text/javascript\"> var dataEnv = \"http://data.nba.com\"; </script> <script async=\"async\" src=\"//connect.facebook.net/en_US/sdk.js\"></script> <script src=\"http://z.cdn.turner.com/nba/nba/.element/js/2.0/global/omniture/nbaOmEvent.js\"></script> <script src=\"http://data.nba.com/data/5s/json/nbacom/noseason/FBmostPop/fbMostPop.json\"></script> <script language=\"JavaScript\" type=\"text/javascript\"> var nbaCurrTime = new Date(1448345976396), nbaCurrTimeOffset = \"-0500\"; </script> <script src=\"http://z.cdn.turner.com/nba/tmpl_asset/static/nba-cms3-base/436/js/pkgCvpHomepage-min.js\"></script> <script src=\"http://z.cdn.turner.com/nba/tmpl_asset/static/nba-cms3-homepage/1641/js/pkg-min.js\"></script> <script> var videoGalleryConfig = { \"data\":{ \"playlists\":[ { \"id\" : \"summary_340FA0DA-5470-3852-D62B-37F2B5CE2297\", \"videos\": [ { \"permalink\": \"/video/games/jazz/2015/11/24/0021500208-okc-uta-durant.nba/index.html\", \"videoID\" : \"/video/games/jazz/2015/11/24/0021500208-okc-uta-durant.nba\", \"videoTitle\" : \"Durant's 27-point Night\", \"videoCaption\" : \"Kevin Durant records 27 points, six rebounds and four steals to lead the Thunder over the Jazz.\", \"videoThumbnail\" : \"http://i2.cdn.turner.com/nba/nba/dam/assets/151123235343-0021500208-okc-uta-durant-00000915.video-playlist-thumbnail.jpg\" } , { \"permalink\": \"/video/games/jazz/2015/11/24/0021500208-okc-uta-play8.nba/index.html\", \"videoID\" : \"/video/games/jazz/2015/11/24/0021500208-okc-uta-play8.nba\", \"videoTitle\" : \"Westbrook Durant Alley-Oop\", \"videoCaption\" : \"Russell Westbrook feeds Kevin Durant for the fast break alley-oop.\", \"videoThumbnail\" : \"http://i2.cdn.turner.com/nba/nba/dam/assets/151123225400-0021500208-okc-uta-play8-00002021.video-playlist-thumbnail.jpg\" } , { \"permalink\": \"/video/games/jazz/2015/11/24/0021500208-okc-uta-play7.nba/index.html\", \"videoID\" : \"/video/games/jazz/2015/11/24/0021500208-okc-uta-play7.nba\", \"videoTitle\" : \"Westbrook, Kanter Buzzer-Beater\", \"videoCaption\" : \"Russell Westbrook drives the length of the court to hit Enes Kanter for the buzzer-beating dunk.\", \"videoThumbnail\" : \"http://i2.cdn.turner.com/nba/nba/dam/assets/151123225639-0021500208-okc-uta-play7-00001219.video-playlist-thumbnail.jpg\" } , { \"permalink\": \"/video/games/jazz/2015/11/24/0021500208-okc-uta-play9.nba/index.html\", \"videoID\" : \"/video/games/jazz/2015/11/24/0021500208-okc-uta-play9.nba\", \"videoTitle\" : \"Gobert Back Injury\", \"videoCaption\" : \"Rudy Gobert hurts his lower back while trying to post up.\", \"videoThumbnail\" : \"http://i2.cdn.turner.com/nba/nba/dam/assets/151123234422-0021500208-okc-uta-play9-00000929.video-playlist-thumbnail.jpg\" } , { \"permalink\": \"/video/games/jazz/2015/11/23/0021500208-okc-uta-play6.nba/index.html\", \"videoID\" : \"/video/games/jazz/2015/11/23/0021500208-okc-uta-play6.nba\", \"videoTitle\" : \"Favors Throws Down The Hammer\", \"videoCaption\" : \"Derrick Favors takes Gordon Hayward's pass and throws down a violent dunk.\", \"videoThumbnail\" : \"http://i2.cdn.turner.com/nba/nba/dam/assets/151123223912-0021500208-okc-uta-play6-00001818.video-playlist-thumbnail.jpg\" } , { \"permalink\": \"/video/games/jazz/2015/11/23/0021500208-okc-uta-play1.nba/index.html\", \"videoID\" : \"/video/games/jazz/2015/11/23/0021500208-okc-uta-play1.nba\", \"videoTitle\" : \"Durant Finishes Fast Break Dunk\", \"videoCaption\" : \"Serge Ibaka makes the block, Russell Westbrook throws the outlet court pass, and Kevin Durant finishes it with authority.\", \"videoThumbnail\" : \"http://i2.cdn.turner.com/nba/nba/dam/assets/151123214532-0021500208-okc-uta-play1-00001518.video-playlist-thumbnail.jpg\" } , { \"permalink\": \"/video/games/jazz/2015/11/23/0021500208-okc-uta-play3.nba/index.html\", \"videoID\" : \"/video/games/jazz/2015/11/23/0021500208-okc-uta-play3.nba\", \"videoTitle\" : \"Burks Buzzer Beating Dunk\", \"videoCaption\" : \"Alec Burks rises up for a monster dunk that just barely beats the shot-clock\", \"videoThumbnail\" : \"http://i2.cdn.turner.com/nba/nba/dam/assets/151123220952-0021500208-okc-uta-play3-00001126.video-playlist-thumbnail.jpg\" } , { \"permalink\": \"/video/games/jazz/2015/11/23/0021500208-okc-uta-play5.nba/index.html\", \"videoID\" : \"/video/games/jazz/2015/11/23/0021500208-okc-uta-play5.nba\", \"videoTitle\" : \"Gobert Putback Dunk\", \"videoCaption\" : \"Rudy Gobert grabs the offensive rebound and puts back the ferocious dunk.\", \"videoThumbnail\" : \"http://i2.cdn.turner.com/nba/nba/dam/assets/151123223508-0021500208-okc-uta-play5-00001214.video-playlist-thumbnail.jpg\" } , { \"permalink\": \"/video/games/jazz/2015/11/23/0021500208-okc-uta-play2.nba/index.html\", \"videoID\" : \"/video/games/jazz/2015/11/23/0021500208-okc-uta-play2.nba\", \"videoTitle\" : \"Hayward Steals and Dunks\", \"videoCaption\" : \"Gordon Hayward strips Kevin Durant than takes it in for the dunk.\", \"videoThumbnail\" : \"http://i2.cdn.turner.com/nba/nba/dam/assets/151123214750-0021500208-okc-uta-play2-00001413.video-playlist-thumbnail.jpg\" } , { \"permalink\": \"/video/games/jazz/2015/11/23/0021500208-okc-uta-play4.nba/index.html\", \"videoID\" : \"/video/games/jazz/2015/11/23/0021500208-okc-uta-play4.nba\", \"videoTitle\" : \"Waiters Back Door Slam\", \"videoCaption\" : \"Dion Waiters goes up and under to avoid the defense and dunk home D.J. Augustin's assist.\", \"videoThumbnail\" : \"http://i2.cdn.turner.com/nba/nba/dam/assets/151123222956-0021500208-okc-uta-play4-00001428.video-playlist-thumbnail.jpg\" } ], \"relatedLinks\" : [ ] } , { \"id\" : \"summary_65406597-B015-0584-4BF9-37B30F880376\", \"videos\": [ { \"permalink\": \"/video/games/cavaliers/2015/11/23/0021500203-orl-cle-recap.nba/index.html\", \"videoID\" : \"/video/games/cavaliers/2015/11/23/0021500203-orl-cle-recap.nba\", \"videoTitle\" : \"Magic vs. Cavaliers\", \"videoCaption\" : \"Kevin Love scores a season-high 34 points, LeBron James adds 15 points and 13 assists as the Cavaliers defeat the Magic.\", \"videoThumbnail\" : \"http://i2.cdn.turner.com/nba/nba/dam/assets/151123211732-kevin-love-orlando-magic-v-cleveland-cavaliers.video-playlist-thumbnail.jpeg\" } , { \"permalink\": \"/video/games/cavaliers/2015/11/24/0021500203-orl-cle-love-34-pts.nba/index.html\", \"videoID\" : \"/video/games/cavaliers/2015/11/24/0021500203-orl-cle-love-34-pts.nba\", \"videoTitle\" : \"Love's 34-point Night\", \"videoCaption\" : \"Kevin Love records a season-high 34 points along with eight rebounds to lead the Cavaliers over the Magic.\", \"videoThumbnail\" : \"http://i2.cdn.turner.com/nba/nba/dam/assets/151123221348-kevin-love-orlando-magic-v-cleveland-cavaliers.video-playlist-thumbnail.jpeg\" } , { \"permalink\": \"/video/games/cavaliers/2015/11/24/0021500203-orl-cle-lebron-25th-alltime-assists.nba/index.html\", \"videoID\" : \"/video/games/cavaliers/2015/11/24/0021500203-orl-cle-lebron-25th-alltime-assists.nba\", \"videoTitle\" : \"LeBron Moves to 25th All-Time in Assists\", \"videoCaption\" : \"LeBron James moves to 25th All-Time in assists with this dish to Kevin Love for the 3-pointer.\", \"videoThumbnail\" : \"http://i2.cdn.turner.com/nba/nba/dam/assets/151123203120-0021500203-orl-cle-lebron-25th-alltime-assists-00003511.video-playlist-thumbnail.jpg\" } , { \"permalink\": \"/video/games/cavaliers/2015/11/24/0021500203-orl-cle-play7.nba/index.html\", \"videoID\" : \"/video/games/cavaliers/2015/11/24/0021500203-orl-cle-play7.nba\", \"videoTitle\" : \"Napier Finds Smith\", \"videoCaption\" : \"Shabazz Napier fires a pass inside to Jason Smith wide-open underneath for the dunk finish.\", \"videoThumbnail\" : \"http://i2.cdn.turner.com/nba/nba/dam/assets/151123210818-0021500203-orl-cle-play7-00000708.video-playlist-thumbnail.jpg\" } , { \"permalink\": \"/video/games/cavaliers/2015/11/23/0021500203-orl-cle-play4.nba/index.html\", \"videoID\" : \"/video/games/cavaliers/2015/11/23/0021500203-orl-cle-play4.nba\", \"videoTitle\" : \"Gordon Slams\", \"videoCaption\" : \"Aaron Gordon soars to the rim for the emphatic one-handed slam.\", \"videoThumbnail\" : \"http://i2.cdn.turner.com/nba/nba/dam/assets/151123202929-0021500203-orl-cle-play4-00001409.video-playlist-thumbnail.jpg\" } , { \"permalink\": \"/video/games/cavaliers/2015/11/23/0021500203-orl-cle-play2.nba/index.html\", \"videoID\" : \"/video/games/cavaliers/2015/11/23/0021500203-orl-cle-play2.nba\", \"videoTitle\" : \"Oladipo Beats the Buzzer\", \"videoCaption\" : \"Victor Oladipo beats the first-quarter buzzer with a pretty up-and-under reverse layup.\", \"videoThumbnail\" : \"http://i2.cdn.turner.com/nba/nba/dam/assets/151123194013-0021500203-orl-cle-play2-00001307.video-playlist-thumbnail.jpg\" } , { \"permalink\": \"/video/games/cavaliers/2015/11/23/0021500203-orl-cle-play3.nba/index.html\", \"videoID\" : \"/video/games/cavaliers/2015/11/23/0021500203-orl-cle-play3.nba\", \"videoTitle\" : \"Oladipo to the Circus\", \"videoCaption\" : \"Victor Oladipo drives the lane and sinks the over-the-head circus shot.\", \"videoThumbnail\" : \"http://i2.cdn.turner.com/nba/nba/dam/assets/151123194629-0021500203-orl-cle-play3-00000730.video-playlist-thumbnail.jpg\" } , { \"permalink\": \"/video/games/cavaliers/2015/11/23/0021500203-orl-cle-play1.nba/index.html\", \"videoID\" : \"/video/games/cavaliers/2015/11/23/0021500203-orl-cle-play1.nba\", \"videoTitle\" : \"Oladipo Throws it Down\", \"videoCaption\" : \"Victor Oladipo throws down the one-handed slam off the alley-oop pass from Elfrid Payton in transition.\", \"videoThumbnail\" : \"http://i2.cdn.turner.com/nba/nba/dam/assets/151123192652-0021500203-orl-cle-play1-00001409.video-playlist-thumbnail.jpg\" } , { \"permalink\": \"/video/games/cavaliers/2015/11/23/0021500203-orl-cle-play6.nba/index.html\", \"videoID\" : \"/video/games/cavaliers/2015/11/23/0021500203-orl-cle-play6.nba\", \"videoTitle\" : \"Defense to Offense\", \"videoCaption\" : \"Jason Smith starts the break with a big block on James Jones and Mario Hezonia finishes with the hoop and harm at the other end.\", \"videoThumbnail\" : \"http://i2.cdn.turner.com/nba/nba/dam/assets/151123210420-0021500203-orl-cle-play6-00001413.video-playlist-thumbnail.jpg\" } ], \"relatedLinks\" : [ ] } , { \"id\" : \"summary_47B647E1-C5BE-1F71-B8D4-37F2960C3FBD\", \"videos\": [ { \"permalink\": \"/video/games/heat/2015/11/23/0021500204-nyk-mia-recap.nba/index.html\", \"videoID\" : \"/video/games/heat/2015/11/23/0021500204-nyk-mia-recap.nba\", \"videoTitle\" : \"Knicks vs. Heat\", \"videoCaption\" : \"Hassan Whiteside puts up 11 points and 11 boards as the Heat take the 95-78 victory over the Knicks.\", \"videoThumbnail\" : \"http://i2.cdn.turner.com/nba/nba/dam/assets/151123225357-hassan-whiteside-philadelphia-76ers-v-miami-heat.video-playlist-thumbnail.jpeg\" } , { \"permalink\": \"/video/games/heat/2015/11/23/0021500204-nyk-mia-play5.nba/index.html\", \"videoID\" : \"/video/games/heat/2015/11/23/0021500204-nyk-mia-play5.nba\", \"videoTitle\" : \"Green Puts it Back\", \"videoCaption\" : \"Gerald Green with a monster two-handed put back dunk in transition.\", \"videoThumbnail\" : \"http://i2.cdn.turner.com/nba/nba/dam/assets/151123205646-0021500204-nyk-mia-play5-00001704.video-playlist-thumbnail.jpg\" } , { \"permalink\": \"/video/games/heat/2015/11/23/0021500204-nyk-mia-play4.nba/index.html\", \"videoID\" : \"/video/games/heat/2015/11/23/0021500204-nyk-mia-play4.nba\", \"videoTitle\" : \"McRoberts Deals Green\", \"videoCaption\" : \"Gerald Green throws down the two-handed lob from Josh McRoberts.\", \"videoThumbnail\" : \"http://i2.cdn.turner.com/nba/nba/dam/assets/151123203000-0021500204-nyk-mia-play4-00001012.video-playlist-thumbnail.jpg\" } , { \"permalink\": \"/video/games/heat/2015/11/23/0021500204-nyk-mia-play2.nba/index.html\", \"videoID\" : \"/video/games/heat/2015/11/23/0021500204-nyk-mia-play2.nba\", \"videoTitle\" : \"Wade Feeds Whiteside\", \"videoCaption\" : \"Dwyane Wade dishes the alley-oop to Hassan Whiteside for the finish.\", \"videoThumbnail\" : \"http://i2.cdn.turner.com/nba/nba/dam/assets/151123200029-0021500204-nyk-mia-play2-00001325.video-playlist-thumbnail.jpg\" } , { \"permalink\": \"/video/games/heat/2015/11/24/0021500204-nyk-mia-play7.nba/index.html\", \"videoID\" : \"/video/games/heat/2015/11/24/0021500204-nyk-mia-play7.nba\", \"videoTitle\" : \"Johnson's Jam\", \"videoCaption\" : \"Tyler Johnson throws down the two-handed put back slam.\", \"videoThumbnail\" : \"http://i2.cdn.turner.com/nba/nba/dam/assets/151123214236-0021500204-nyk-mia-play7-00001324.video-playlist-thumbnail.jpg\" } , { \"permalink\": \"/video/games/heat/2015/11/23/0021500204-nyk-mia-play3.nba/index.html\", \"videoID\" : \"/video/games/heat/2015/11/23/0021500204-nyk-mia-play3.nba\", \"videoTitle\" : \"Baseline Hangout\", \"videoCaption\" : \"Gerald Green drives down the baseline and soars for an up-and-under layup.\", \"videoThumbnail\" : \"http://i2.cdn.turner.com/nba/nba/dam/assets/151123200733-0021500204-nyk-mia-play3-00001426.video-playlist-thumbnail.jpg\" } , { \"permalink\": \"/video/games/heat/2015/11/23/0021500204-nyk-mia-play1.nba/index.html\", \"videoID\" : \"/video/games/heat/2015/11/23/0021500204-nyk-mia-play1.nba\", \"videoTitle\" : \"Whiteside Block Party\", \"videoCaption\" : \"Hassan Whiteside gets all ball on this block against Robin Lopez down low.\", \"videoThumbnail\" : \"http://i2.cdn.turner.com/nba/nba/dam/assets/151123195229-0021500204-nyk-mia-play1-00001220.video-playlist-thumbnail.jpg\" } , { \"permalink\": \"/video/games/heat/2015/11/23/0021500204-nyk-mia-play6.nba/index.html\", \"videoID\" : \"/video/games/heat/2015/11/23/0021500204-nyk-mia-play6.nba\", \"videoTitle\" : \"Anthony Goes Glass\", \"videoCaption\" : \"Carmelo Anthony pulls up, draws the foul and sinks the bank shot.\", \"videoThumbnail\" : \"http://i2.cdn.turner.com/nba/nba/dam/assets/151123213757-0021500204-nyk-mia-play6-00002123.video-playlist-thumbnail.jpg\" } ], \"relatedLinks\" : [ ] } , { \"id\" : \"summary_2956AED6-E92B-2F16-AB7C-37F2A704EDCA\", \"videos\": [ { \"permalink\": \"/video/games/timberwolves/2015/11/23/0021500206-phi-min-recap.nba/index.html\", \"videoID\" : \"/video/games/timberwolves/2015/11/23/0021500206-phi-min-recap.nba\", \"videoTitle\" : \"Sixers vs. Timberwolves\", \"videoCaption\" : \"Andrew Wiggins goes for 32 points and six rebounds as the Timberwolves beat the 76ers 100-95.\", \"videoThumbnail\" : \"http://i2.cdn.turner.com/nba/nba/dam/assets/151123235403-andrew-wiggins-philadelphia-76ers-v-minnesota-timberwolves.video-playlist-thumbnail.jpeg\" } , { \"permalink\": \"/video/games/timberwolves/2015/11/24/0021500206-phi-min-play8.nba/index.html\", \"videoID\" : \"/video/games/timberwolves/2015/11/24/0021500206-phi-min-play8.nba\", \"videoTitle\" : \"Wiggins And-1\", \"videoCaption\" : \"Andrew Wiggins cleans up the block with a massive one-handed jam as he draws the foul.\", \"videoThumbnail\" : \"http://i2.cdn.turner.com/nba/nba/dam/assets/151123234306-0021500206-phi-min-play8-00001908.video-playlist-thumbnail.jpg\" } , { \"permalink\": \"/video/games/timberwolves/2015/11/23/0021500206-phi-min-play5.nba/index.html\", \"videoID\" : \"/video/games/timberwolves/2015/11/23/0021500206-phi-min-play5.nba\", \"videoTitle\" : \"Rubio to Garnett\", \"videoCaption\" : \"Ricky Rubio feeds Kevin Garnett for the lay-up in transition.\", \"videoThumbnail\" : \"http://i2.cdn.turner.com/nba/nba/dam/assets/151123215112-0021500206-phi-min-play5-00001317.video-playlist-thumbnail.jpg\" } , { \"permalink\": \"/video/games/timberwolves/2015/11/23/0021500206-phi-min-play4.nba/index.html\", \"videoID\" : \"/video/games/timberwolves/2015/11/23/0021500206-phi-min-play4.nba\", \"videoTitle\" : \"Spinning Okafor\", \"videoCaption\" : \"Jahlil Okafor spins down low for the finger roll lay-up.\", \"videoThumbnail\" : \"http://i2.cdn.turner.com/nba/nba/dam/assets/151123211227-0021500206-phi-min-play4-00001718.video-playlist-thumbnail.jpg\" } , { \"permalink\": \"/video/games/timberwolves/2015/11/23/0021500206-phi-min-play1.nba/index.html\", \"videoID\" : \"/video/games/timberwolves/2015/11/23/0021500206-phi-min-play1.nba\", \"videoTitle\" : \"Off the Dribble\", \"videoCaption\" : \"Jahlil Okafor drives the lane for the turnaround floater.\", \"videoThumbnail\" : \"http://i2.cdn.turner.com/nba/nba/dam/assets/151123222321-0021500206-phi-min-play1-00001126.video-playlist-thumbnail.jpg\" } , { \"permalink\": \"/video/games/timberwolves/2015/11/23/0021500206-phi-min-play3.nba/index.html\", \"videoID\" : \"/video/games/timberwolves/2015/11/23/0021500206-phi-min-play3.nba\", \"videoTitle\" : \"Okafor on Defense\", \"videoCaption\" : \"Jahlil Okafor gets the block in the paint.\", \"videoThumbnail\" : \"http://i2.cdn.turner.com/nba/nba/dam/assets/151123210844-0021500206-phi-min-play3-00000907.video-playlist-thumbnail.jpg\" } , { \"permalink\": \"/video/games/timberwolves/2015/11/23/0021500206-phi-min-play6.nba/index.html\", \"videoID\" : \"/video/games/timberwolves/2015/11/23/0021500206-phi-min-play6.nba\", \"videoTitle\" : \"Wiggins Down Low\", \"videoCaption\" : \"Andrew Wiggins spins in the paint and gets the lay-up to fall.\", \"videoThumbnail\" : \"http://i2.cdn.turner.com/nba/nba/dam/assets/151123220555-0021500206-phi-min-play6-00001025.video-playlist-thumbnail.jpg\" } , { \"permalink\": \"/video/games/timberwolves/2015/11/23/0021500206-phi-min-play2.nba/index.html\", \"videoID\" : \"/video/games/timberwolves/2015/11/23/0021500206-phi-min-play2.nba\", \"videoTitle\" : \"Okafor And-1\", \"videoCaption\" : \"Jahlil Okafor draws the foul and gets the floater to fall for the and-1.\", \"videoThumbnail\" : \"http://i2.cdn.turner.com/nba/nba/dam/assets/151123210115-0021500206-phi-min-play2-00001101.video-playlist-thumbnail.jpg\" } ], \"relatedLinks\" : [ ] } ] } }; </script>  <script type=\"application/ld+json\"> { \"@context\": \"http://schema.org\", \"@type\": \"SportsOrganization\", \"name\": \"National Basketball Association\", \"legalName\": \"National Basketball Association\", \"description\": \"The NBA is a global sports and media business built around three professional sports leagues: the National Basketball Association, the Women's National Basketball Association, and the NBA Development League.\", \"url\": \"http://www.nba.com?ls=eref:google:kc:league\", \"logo\": \"http://i.cdn.turner.com/nba/nba/.element/img/3.0/global/onebox.jpeg\", \"sport\": \"http://en.wikipedia.org/wiki/Basketball\", \"member\": [ { \"@type\": \"Role\", \"startDate\": \"2014-02-01\", \"member\": { \"@type\": \"Person\", \"name\": \"Adam Silver\", \"givenName\": \"Adam\", \"familyName\": \"Silver\", \"jobTitle\": \"Commissioner\" } } ], \"makesOffer\": [ { \"@type\": \"Offer\", \"name\": \"Buy NBA Tickets\", \"url\": \"http://www.nbatickets.com\" } ], \"email\": \"http://www.nba.com/email_us/contact_us.html\", \"founder\": [ { \"@type\": \"Person\", \"name\": \"Eddie Gottlieb\", \"givenName\": \"Edward\", \"familyName\": \"Gottlieb\" }, { \"@type\": \"Person\", \"name\": \"Leo Ferris\", \"givenName\": \"Leo\", \"familyName\": \"Ferris\" } ], \"foundingDate\": \"1946-06-26\", \"address\": { \"@type\": \"PostalAddress\", \"streetAddress\": \"645 Fifth Avenue\", \"addressLocality\": \"New York\", \"addressRegion\": \"NY\", \"postalCode\": \"10022\", \"addressCountry\": \"US\", \"contactType\": \"Fan Relations\" } } </script> <link rel=\"alternate\" href=\"android-app://com.nbadigital.gametimelite/gametime/com.nbadigital.gametime/navigation/dashboard\" /> </head> <!--[if lt IE 7]><body class=\"no-js lt-ie9 lt-ie8 lt-ie7\" id=\"nbaHomepage\"> <![endif]--> <!--[if IE 7]><body class=\"no-js lt-ie9 lt-ie8\" id=\"nbaHomepage\"> <![endif]--> <!--[if IE 8]><body class=\"no-js lt-ie9\" id=\"nbaHomepage\"> <![endif]--> <!--[if gt IE 8]><!--> <body class=\"no-js\" id=\"nbaHomepage\"> <!--<![endif]--> <div id=\"ad_oop_skin_01\" class=\"nba-ad\"></div>  ^\n",
      ":142:2047: '>' expected instead of ' '<li>                                                                                                                                                                                                                                                                                                                                                                                                                                                                                                                                                                                                                                                                                                                                                                                                                                                                                                                                                                                                                                                                                                                                                                                                                                                                                                                                                                                                                                                                                                                                                                                                                                                                                                                                                                                                                                                                                                                                                                                                                                                                                                                              ^"
     ]
    },
    {
     "name": "stdout",
     "output_type": "stream",
     "text": [
      "List(<!--dnk to Philadelphia 76ers team site\" class=\"nbaTeamPHI\" target=>Philadelphia 76ers</a> </li> <li> <a href=\"/raptors?ls=iref:nba:gnav\" title=\"Link to Toronto Raptors team site\" class=\"nbaTeamTOR\" target=>Toronto Raptors</a> </li> </ul> </li> <li> <span class=\"nbaDivision\">Central</span> <ul> <li> <a href=\"/bulls?ls=iref:nba:gnav\" title=\"Link to Chicago Bulls team site\" class=\"nbaTeamCHI\" target=>Chicago Bulls</a> </li> <li> <a href=\"/cavaliers?ls=iref:nba:gnav\" title=\"Link to Cleveland Cavaliers team site\" class=\"nbaTeamCLE\" target=>Cleveland Cavaliers</a> </li> <li> <a href=\"/pistons?ls=iref:nba:gnav\" title=\"Link to Detroit Pistons team site\" class=\"nbaTeamDET\" target=>Detroit Pistons</a> </li> <li> <a href=\"/pacers?ls=iref:nba:gnav\" title=\"Link to Indiana Pacers team site\" class=\"nbaTeamIND\" target=>Indiana Pacers</a> </li> <li> <a href=\"/bucks?ls=iref:nba:gnav\" title=\"Link to Milwaukee Bucks team site\" class=\"nbaTeamMIL\" target=>Milwaukee Bucks</a> </li> </ul> </li> <li> <span class=\"nbaDivision\">S"
     ]
    },
    {
     "name": "stderr",
     "output_type": "stream",
     "text": [
      "\n",
      ":152:2: document must contain exactly one element<ul class=\"nbaLeadersDetails\"> ^\n"
     ]
    },
    {
     "name": "stdout",
     "output_type": "stream",
     "text": [
      "outheast</span> <ul> <li> <a href=\"/hawks?ls=iref:nba:gnav\" title=\"Link to Atlanta Hawks team site\" class=\"nbaTeamATL\" target=>Atlanta Hawks</a> </li> <li> <a href=\"/hornets?ls=iref:nba:gnav\" title=\"Link to Charlotte Hornets team site\" class=\"nbaTeamCHA\" target=>Charlotte Hornets</a> </li> <li> <a href=\"/heat?ls=iref:nba:gnav\" title=\"Link to Miami Heat team site\" class=\"nbaTeamMIA\" target=>Miami Heat</a> </li> <li> <a href=\"/magic?ls=iref:nba:gnav\" title=\"Link to Orlando Magic team site\" class=\"nbaTeamORL\" target=>Orlando Magic</a> </li> <li> <a href=\"/wizards?ls=iref:nba:gnav\" title=\"Link to Washington Wizards team site\" class=\"nbaTeamWAS\" target=>Washington Wizards</a> </li> </ul> </li> </ul> </div> <div class=\"nbaSecondary\"> <span class=\"nbaNavSubheading\">Western Conference</span> <ul> <li> <span class=\"nbaDivision\">Southwest</span> <ul> <li> <a href=\"/mavericks?ls=iref:nba:gnav\" title=\"Link to Dallas Mavericks team site\" class=\"nbaTeamDAL\" target=>Dallas Mavericks</a> </li> <li> <a href=\"/rockets?ls=iref:nba:gnav\" title=\"Link to Houston Rockets team site\" class=\"nbaTeamHOU\" target=>Houston Rockets</a> </li> <li> <a href=\"/grizzlies?ls=iref:nba:gnav\" title=\"Link to Memphis Grizzlies team site\" class=\"nbaTeamMEM\" target=>Memphis Grizzlies</a> </li> <li> <a href=\"/pelicans?ls=iref:nba:gnav\" title=\"Link to New Orleans Pelicans team site\" class=\"nbaTeamNOH\" target=>New Orleans Pelicans</a> </li> <li> <a href=\"/spurs?ls=iref:nba:gnav\" title=\"Link to San Antonio Spurs team site\" class=\"nbaTeamSAS\" target=>San Antonio Spurs</a> </li> </ul> </li> <li> <span class=\"nbaDivision\">Northwest</span> <ul> <li> <a href=\"/nuggets?ls=iref:nba:gnav\" title=\"Link to Denver Nuggets team site\" class=\"nbaTeamDEN\" target=>Denver Nuggets</a> </li> <li> <a href=\"/timberwolves?ls=iref:nba:gnav\" title=\"Link to Minnesota Timberwolves team site\" class=\"nbaTeamMIN\" target=>Minnesota Timberwolves</a> </li> <li> <a href=\"/thunder?ls=iref:nba:gnav\" title=\"Link to Oklahoma City Thunder team site\" class=\"nbaTeamOKC\" target=>Oklahoma City Thunder</a> </li> <li> <a href=\"/blazers?ls=iref:nba:gnav\" title=\"Link to Portland Trail Blazers team site\" class=\"nbaTeamPOR\" target=>Portland Trail Blazers</a> </li> <li> <a href=\"/jazz?ls=iref:nba:gnav\" title=\"Link to Utah Jazz team site\" class=\"nbaTeamUTA\" target=>Utah Jazz</a> </li> </ul> </li> <li> <span class=\"nbaDivision\">Pacific</span> <ul> <li> <a href=\"/warriors?ls=iref:nba:gnav\" title=\"Link to Golden State Warriors team site\" class=\"nbaTeamGSW\" target=>Golden State Warriors</a> </li> <li> <a href=\"/clippers?ls=iref:nba:gnav\" title=\"Link to Los Angeles Clippers team site\" class=\"nbaTeamLAC\" target=>Los Angeles Clippers</a> </li> <li> <a href=\"/lakers?ls=iref:nba:gnav\" title=\"Link to Los Angeles Lakers team site\" class=\"nbaTeamLAL\" target=>Los Angeles Lakers</a> </li> <li> <a href=\"/suns?ls=iref:nba:gnav\" title=\"Link to Phoenix Suns team site\" class=\"nbaTeamPHX\" target=>Phoenix Suns</a> </li> <li> <a href=\"/kings?ls=iref:nba:gnav\" title=\"Link to Sacramento Kings team site\" class=\"nbaTeamSAC\" target=>Sacramento Kings</a> </li> </ul> </li> </ul> </div> </div> </li> <li class=\"nbaSingleton nba-left-border\"> <a href=\"/gameline?ls=iref:nba:gnav\" title=\"Link to Scores &amp; Schedules\" class=\"\" target=>Scores &amp; Schedules</a> </li> <li> <a href=\"/news/?ls=iref:nba:gnav\" title=\"Link to News\" class=\"\" target=>News</a> <div class=\"nbaNavDropdown \"> <div class=\"nbaPrimary\"> <ul> <li> <a href=\"/news/?ls=iref:nba:gnav\" title=\"Link to NBA Headlines\" class=\"\" target=>NBA Headlines</a> </li> <li> <a href=\"/news/news_archive.html?ls=iref:nba:gnav\" title=\"Link to News Archive\" class=\"\" target=>News Archive</a> </li> <li> <a href=\"http://www.twitter.com/nbacom\" title=\"Link to @NBAcom\" class=\"_blank\" target=_blank>@NBAcom</a> </li> <li> <a href=\"http://stats.nba.com/transactions/\" title=\"Link to Transactions\" class=\"\" target=>Transactions</a> </li> <li> <a href=\"/personalities/?ls=iref:nba:gnav\" title=\"Link to NBA.com Writers\" class=\"\" target=>NBA.com Writers</a> </li> <li> <a href=\"/history/?ls=iref:nba:gnav\" title=\"Link to History\" class=\"\" target=>NBA History</a> </li> <li> <a href=\"/news/referee.html?ls=iref:nba:gnav\" title=\"Link to Daily Ref Assignments\" class=\"\" target=>Daily Ref Assignments</a> </li> <li> <a href=\"/allstar?ls=iref:nba:gnav\" title=\"2016 NBA All-Star\" class=\"\" target=>2016 NBA All-Star</a> </li> <li> <a href=\"/news/important-dates/index.html?ls=iref:nba:gnav\" title=\"Link to Important Dates\" class=\"\" target=>Important Dates</a> </li> </ul> </div> <div class=\"nbaSecondary\"> <span class=\"nbaNavSubheading\">Blogs</span> <ul> <li> <a href=\"http://hangtime.blogs.nba.com?ls=iref:nba:gnav\" title=\"Link to Hang Time Blog\" class=\"\" target=>Hang Time Blog</a> </li> <li> <a href=\"http://hangtime.blogs.nba.com/category/podcast?ls=iref:nba:gnav\" title=\"Link to Hang Time Podcast\" class=\"\" target=>Hang Time Podcast</a> </li> <li> <a href=\"http://allball.blogs.nba.com?ls=iref:nba:gnav\" title=\"Link to All Ball Blog\" class=\"\" target=>All Ball Blog</a> </li> <li> <a href=\"http://charlesbarkley.com?ls=iref:nba:gnav\" title=\"Link to CharlesBarkley.com\" class=\"_blank\" target=_blank>CharlesBarkley.com</a> </li> <li> <a href=\"http://www.nba.com/thestarters\" title=\"Link to The Starters\" class=\"\" target=>The Starters</a> </li> </ul> </div> </div> </li> <li> <a href=\"/video?ls=iref:nba:gnav\" title=\"Link to NBA Video\" class=\"\" target=>Video</a> <div class=\"nbaNavDropdown \"> <div class=\"nbaPrimary\"> <ul> <li> <a href=\"/video/?ls=iref:nba:gnav\" title=\"Link to All Videos\" class=\"\" target=>All Videos</a> </li> <li> <a href=\"/video/highlights/?ls=iref:nba:gnav\" title=\"Link to Highlights\" class=\"\" target=>Highlights</a> </li> <li> <a href=\"/video/topplays/?ls=iref:nba:gnav\" title=\"Link to Top Plays\" class=\"\" target=>Top Plays</a> </li> <li> <a href=\"/video/nbatv/?ls=iref:nba:gnav\" title=\"Link to NBA TV\" class=\"\" target=>NBA TV</a> </li> <li> <a href=\"http://www.nba.com/video/allstar\" title=\"NBA All-Star 2015 Videos\" class=\"\" target=>All-Star</a> </li> <li> <a href=\"/video/editorspicks/?ls=iref:nba:gnav\" title=\"Link to Editor's Picks\" class=\"\" target=>Editor's Picks</a> </li> <li> <a href=\"/videorulebook/?ls=iref:nba:gnav\" title=\"Link to Video Rulebook\" class=\"\" target=>Video Rulebook</a> </li> </ul> </div> <div class=\"nbaSecondary\"> <span class=\"nbaNavSubheading\">More</span> <ul> <li> <a href=\"/fool/?ls=iref:nba:gnav\" title=\"Link to Shaqtin' A Fool\" class=\"\" target=>Shaqtin' A Fool</a> </li> <li> <a href=\"http://www.nba.com/top-plays/?ls=iref:nba:gnav\" title=\"Top Plays Theatre\" class=\"\" target=>Top Plays Theatre</a> </li> <li> <a href=\"http://www.nba.com/dunk-videos/?ls=iref:nba:gnav\" title=\"Dunk HQ\" class=\"\" target=>Dunk HQ</a> </li> <li> <a href=\"/nbarooks?ls=iref:nba:gnav\" title=\"Link to NBA Rooks\" class=\"\" target=>NBA Rooks</a> </li> <li> <a href=\"/video/tntot/?ls=iref:nba:gnav\" title=\"TNT's Inside the NBA\" class=\"\" target=>TNT's Inside the NBA</a> </li> <li> <a href=\"http://www.nba.com/tnttipoffmoments\" title=\"TNT Tip-Off Moments \" class=\"\" target=>TNT Tip-Off Moments </a> </li> </ul> </div> </div> </li> <li> <a href=\"http://stats.nba.com/players/?ls=iref:nba:gnav\" title=\"Link to Players\" class=\"\" target=>Players</a> <div class=\"nbaNavDropdown \"> <div class=\"nbaPrimary\"> <ul> <li> <a href=\"http://stats.nba.com/players/?ls=iref:nba:gnav\" title=\"Link to Players\" class=\"\" target=>Players</a> </li> <li> <a href=\"/news/coaches/index.html?ls=iref:nba:gnav\" title=\"Link to Coaches\" class=\"\" target=>Coaches</a> </li> <li> <a href=\"http://stats.nba.com/teams/\" title=\"Link to Team Rosters\" class=\"\" target=>Team Rosters</a> </li> <li> <a href=\"/nbarooks?ls=iref:nba:gnav\" title=\"Link to NBA Rooks\" class=\"\" target=>NBA Rooks</a> </li> <li> <a href=\"/video/awards/?ls=iref:nba:gnav\" title=\"Link to Kia Performance Awards\" class=\"\" target=>Kia Performance Awards</a> </li> </ul> </div> <div class=\"nbaSecondary\"> <span class=\"nbaNavSubheading\">More</span> <ul> <li> <a href=\"http://www.nba.com/freeagents/?ls=iref:nba:gnav\" title=\"Free Agent Tracker\" class=\"\" target=>Free Agent Tracker</a> </li> <li> <a href=\"http://www.nba.com/rookie-ladder/?ls=iref:nba:gnav\" title=\"Rookie Ladder\" class=\"\" target=>Rookie Ladder</a> </li> <li> <a href=\"http://www.nba.com/mvp-ladder/?ls=iref:nba:gnav\" title=\"Kia Race to the MVP\" class=\"\" target=>Kia Race to the MVP</a> </li> <li> <a href=\"http://pr.nba.com/nba-international-players-2015-16-rosters/\" title=\"Link to International Players\" class=\"\" target=>International Players</a> </li> <li> <a href=\"http://stats.nba.com/players/?ls=iref:nba:gnav\" title=\"Link to Historical Player Search\" class=\"\" target=>Historical Player Search</a> </li> </ul> </div> </div> </li> <li> <a href=\"/standings/team_record_comparison/conferenceNew_Std_Div.html?ls=iref:nba:gnav\" title=\"Link to Standings\" class=\"\" target=>Standings</a> <div class=\"nbaNavDropdown \"> <div class=\"nbaPrimary\"> <ul> <li> <a href=\"/standings/team_record_comparison/conferenceNew_Std_Div.html?ls=iref:nba:gnav\" title=\"Link to By Division\" class=\"\" target=>By Division</a> </li> <li> <a href=\"/standings/team_record_comparison/conferenceNew_Std_Cnf.html?ls=iref:nba:gnav\" title=\"Link to By Conference\" class=\"\" target=>By Conference</a> </li> <li> <a href=\"http://stats.nba.com/standings?ls=iref:nba:gnav\" title=\"Daily Standings\" class=\"\" target=>Daily Standings</a> </li> <li> <a href=\"http://stats.nba.com/playoffpicture\" title=\"Playoff Picture\" class=\"\" target=>Playoff Picture</a> </li> </ul> </div> <div class=\"nbaSecondary\"> <span class=\"nbaNavSubheading\">More</span> <ul> <li> <a href=\"/standings/team_record_comparison/conferenceNew_Stk_Cnf.html?ls=iref:nba:gnav\" title=\"Link to Streaks &amp; Last 10\" class=\"\" target=>Streaks &amp; Last 10</a> </li> <li> <a href=\"/standings/team_record_comparison/conferenceNew_Ahd_Div.html?ls=iref:nba:gnav\" title=\"Link to Ahead &amp; Behind\" class=\"\" target=>Ahead &amp; Behind</a> </li> <li> <a href=\"/standings/team_record_comparison/conferenceNew_Mrg_Div.html?ls=iref:nba:gnav\" title=\"Link to Margin &amp; Stats\" class=\"\" target=>Margin &amp; Stats</a> </li> <li> <a href=\"/standings/2014/team_record_comparison/conferenceNew_Std_Div.html?ls=iref:nba:gnav\" title=\"Link to 2014-15 Standings\" class=\"\" target=>2014-15 Standings</a> </li> <li> <a href=\"/standings/2013/team_record_comparison/conferenceNew_Std_Div.html?ls=iref:nba:gnav\" title=\"Link to 2013-14 Standings\" class=\"\" target=>2013-14 Standings</a> </li> <li> <a href=\"/history/nba-season-recaps/index.html?ls=iref:nba:gnav\" title=\"Link to Season Recaps\" class=\"\" target=>Season Recaps</a> </li> </ul> </div> </div> </li> <li> <a href=\"http://stats.nba.com?ls=iref:nba:gnav\" title=\"Link to Stats\" class=\"\" target=>Stats</a> <div class=\"nbaNavDropdown \"> <div class=\"nbaPrimary\"> <ul> <li> <a href=\"http://stats.nba.com?ls=iref:nba:gnav\" title=\"Link to NBA.com Stats\" class=\"\" target=>NBA.com/Stats Home</a> </li> <li> <a href=\"http://stats.nba.com/league/player/?ls=iref:nba:gnav\" title=\"Sortable Player Stats\" class=\"\" target=>Sortable Player Stats</a> </li> <li> <a href=\"http://stats.nba.com/league/team/?ls=iref:nba:gnav\" title=\"Link to Sortable Team Stats\" class=\"\" target=>Sortable Team Stats</a> </li> <li> <a href=\"http://stats.nba.com/leaders/?ls=iref:nba:gnav\" title=\"Link to Category Leaders\" class=\"\" target=>Category Leaders</a> </li> <li> <a href=\"http://stats.nba.com/league/lineups/?ls=iref:nba:gnav\" title=\"Link to League Lineups\" class=\"\" target=>League Lineups</a> </li> <li> <a href=\"http://stats.nba.com/tracking/#!/player/?ls=iref:nba:gnav\" title=\"Link to SportVU Tracking Data\" class=\"\" target=>SportVU Player Tracking</a> </li> <li> <a href=\"http://stats.nba.com/tracking/#!/team/?ls=iref:nba:gnav\" title=\"Link to SportVU Team Tracking\" class=\"\" target=>SportVU Team Tracking</a> </li> </ul> </div> <div class=\"nbaSecondary\"> <span class=\"nbaNavSubheading\">More</span> <ul> <li> <a href=\"http://stats.nba.com/leaders/alltime/?ls=iref:nba:gnav\" title=\"Link to All-Time Stats\" class=\"\" target=>All-Time Stats</a> </li> <li> <a href=\"http://stats.nba.com/scores/?ls=iref:nba:gnav\" title=\"Link to Every NBA Box Score (1946-Present)\" class=\"\" target=>Every NBA Box Score (1946-Present)</a> </li> <li> <a href=\"http://stats.nba.com/history/?ls=iref:nba:gnav\" title=\"Link to Complete Franchise History\" class=\"\" target=>Complete Franchise History</a> </li> <li> <a href=\"http://hangtime.blogs.nba.com/category/nba-comstats?ls=iref:nba:gnav\" title=\"Link to Stats Blog\" class=\"\" target=>Stats Blog</a> </li> <li> <a href=\"http://stats.nba.com/featuredarchive/?ls=iref:nba:gnav\" title=\"Stats Features\" class=\"\" target=>Stats Features</a> </li> <li> <a href=\"http://www.twitter.com/nbastats\" title=\"Link to @NBAStats\" class=\"_blank\" target=_blank>@NBAStats</a> </li> </ul> </div> </div> </li> <li> <a href=\"/nbatv/?ls=iref:nba:gnav\" title=\"Link to NBA TV\" class=\"\" target=>TV</a> <div class=\"nbaNavDropdown \"> <div class=\"nbaPrimary\"> <ul> <li> <a href=\"/nbatv/?ls=iref:nba:gnav\" title=\"Link to NBA TV\" class=\"\" target=>NBA TV Home</a> </li> <li> <a href=\"/nbatv/schedule/?ls=iref:nba:gnav\" title=\"Link to NBA TV Schedule\" class=\"\" target=>NBA TV Schedule</a> </li> </ul> </div> <div class=\"nbaSecondary\"> <span class=\"nbaNavSubheading\">Game Broadcasts</span> <ul> <li> <a href=\"http://www.nba.com/schedules/national_tv_schedule/?ls=iref:nba:gnav\" title=\"National TV Schedule\" class=\"\" target=>National TV Schedule</a> </li> <li> <a href=\"http://www.nba.com/schedules/national_tv_schedule/NBATV/?ls=iref:nba:gnav\" title=\"NBA on NBA TV\" class=\"\" target=>NBA on NBA TV</a> </li> <li> <a href=\"/nbaontnt/?ls=iref:nba:gnav\" title=\"Link to NBA on TNT\" class=\"\" target=>NBA on TNT</a> </li> <li> <a href=\"http://www.nba.com/tntovertime/\" title=\"\" class=\"\" target=>TNT Overtime</a> </li> <li> <a href=\"/schedules/national_tv_schedule/ESPN?ls=iref:nba:gnav\" title=\"Link to NBA on ESPN\" class=\"\" target=>NBA on ESPN</a> </li> <li> <a href=\"/schedules/national_tv_schedule/ABC?ls=iref:nba:gnav\" title=\"Link to NBA on ABC\" class=\"\" target=>NBA on ABC</a> </li> <li> <a href=\"/schedules/international_nba_tv_schedule.html?ls=iref:nba:gnav\" title=\"Link to International TV Schedule\" class=\"\" target=>International TV Schedule</a> </li> <li> <a href=\"/schedules/national_tv_schedule/canada?ls=iref:nba:gnav\" title=\"Link to Canadian TV Schedule\" class=\"\" target=>Canadian TV Schedule</a> </li> </ul> </div> <div class=\"nbaSecondary\"> <span class=\"nbaNavSubheading\">More</span> <ul> <li> <a href=\"/fannight/?ls=iref:nba:gnav\" title=\"Link to NBA Fan Night\" class=\"\" target=>NBA Fan Night</a> </li> <li> <a href=\"/inside-stuff/?ls=iref:nba:gnav\" title=\"Link to Inside Stuff\" class=\"\" target=>Inside Stuff</a> </li> <li> <a href=\"/thestarters/?ls=iref:nba:gnav\" title=\"Link to The Starters\" class=\"\" target=>The Starters</a> </li> <li> <a href=\"/opencourt/?ls=iref:nba:gnav\" title=\"Link to Open Court\" class=\"\" target=>Open Court</a> </li> <li> <a href=\"/video/Inside_the_NBA?ls=iref:nba:gnav\" title=\"Link to Inside the NBA\" class=\"\" target=>Inside the NBA</a> </li> <li> <a href=\"/tvc/info.html?ls=iref:nba:gnav\" title=\"Link to TV Companion\" class=\"\" target=>TV Companion</a> </li> </ul> </div> </div> </li> <li> <a href=\"/fantasy/?ls=iref:nba:gnav\" title=\"NBA.com Fantasy\" class=\"\" target=>Fantasy</a> <div class=\"nbaNavDropdown \"> <div class=\"nbaPrimary\"> <ul> <li> <a href=\"/fantasy/?ls=iref:nba:gnav\" title=\"\" class=\"\" target=>NBA.com/Fantasy</a> </li> <li> <a href=\"http://stats.nba.com/fantasynews/\" title=\"Fantasy News\" class=\"\" target=>Fantasy News</a> </li> <li> <a href=\"http://bit.ly/fantasybb2015\" title=\"NBA.com/Yahoo Fantasy Basketball\" class=\"\" target=>NBA.com/Yahoo Fantasy Basketball</a> </li> <li> <a href=\"http://www.nba.com/oneday/?ls=nba:fantasy:fanduel\" title=\"NBA Official One-Day Fantasy Powered by FanDuel\" class=\"\" target=>NBA Official One-Day Fantasy Powered by FanDuel</a> </li> </ul> </div> </div> </li> <li> <a href=\"http://www.nba.com/leaguepass/?ls=iref:nba:gnav\" title=\"Link to NBA LEAGUE PASS\" class=\"\" target=>NBA LEAGUE PASS</a> <div class=\"nbaNavDropdown \"> <div class=\"nbaPrimary\"> <ul> <li> <a href=\"http://www.nba.com/leaguepass/?ls=iref:nba:gnav\" title=\"Buy NBA LEAGUE PASS\" class=\"\" target=>Buy NBA LEAGUE PASS</a> </li> <li> <a href=\"http://www.nba.com/leaguepass/?ls=iref:nba:gnav\" title=\"Buy NBA TEAM PASS\" class=\"\" target=>Buy NBA TEAM PASS</a> </li> <li> <a href=\"http://www.nba.com/leaguepass/?ls=iref:nba:gnav\" title=\"NBA SINGLE GAME\" class=\"\" target=>NBA SINGLE GAME</a> </li> <li> <a href=\"http://www.nba.com/leaguepass/?ls=iref:nba:gnav:lpbutton\" title=\"NBA LEAGUE PASS AUDIO \" class=\"\" target=>NBA LEAGUE PASS AUDIO </a> </li> <li> <a href=\"http://www.nba.com/activate/?ls=iref:nba:gnav:lpbutton\" title=\"TV Subscribers\" class=\"\" target=>TV Subscribers </a> </li> <li> <a href=\"http://www.nba.com/mobile/?ls=iref:nba:gnav\" title=\"NBA App\" class=\"\" target=>NBA App</a> </li> <li> <a href=\"http://leaguepasssupport.nba.com/?ls=iref:nba:gnav\" title=\"NBA LEAGUE PASS Support\" class=\"\" target=>NBA LEAGUE PASS Support</a> </li> </ul> </div> </div> </li> <li> <a href=\"http://www.nba.com/global/storelinkhandler.html?nav=true\" title=\"Link to NBAStore.com\" class=\"\" target=>Store</a> <div class=\"nbaNavDropdown \"> <div class=\"nbaPrimary\"> <ul> <li> <a href=\"http://www.nba.com/global/storelinkhandler.html?cat=nba_jerseys&amp;nav=true\" title=\"Link to Jerseys\" class=\"\" target=>Jerseys</a> </li> <li> <a href=\"http://www.nba.com/global/storelinkhandler.html?cat=nba_mens&amp;nav=true\" title=\"Link to Mens\" class=\"\" target=>Mens</a> </li> <li> <a href=\"http://www.nba.com/global/storelinkhandler.html?cat=nba_kids&amp;nav=true\" title=\"Link to Kids\" class=\"\" target=>Kids</a> </li> <li> <a href=\"http://www.nba.com/global/storelinkhandler.html?cat=nba_nba4her&amp;nav=true\" title=\"Link to NBA4HER\" class=\"\" target=>NBA4HER</a> </li> <li> <a href=\"http://www.nba.com/global/storelinkhandler.html?cat=nba_customshop&amp;nav=true\" title=\"Link to Custom Shop\" class=\"\" target=>Custom Shop</a> </li> <li> <a href=\"http://www.nba.com/global/storelinkhandler.html?cat=nba_headwear&amp;nav=true\" title=\"Link to Hats\" class=\"\" target=>Hats</a> </li> <li> <a href=\"http://www.nba.com/global/storelinkhandler.html?cat=nba_basketballs\" title=\"Link to Basketballs\" class=\"\" target=>Basketballs</a> </li> <li> <a href=\"http://www.nba.com/global/storelinkhandler.html?cat=nba_footwear&amp;nav=true\" title=\"Link to Footwear\" class=\"\" target=>Footwear</a> </li> <li> <a href=\"http://www.nba.com/global/storelinkhandler.html?cat=nba_whatshot&amp;nav=true\" title=\"Link to What's Hot\" class=\"\" target=>What's Hot</a> </li> <li> <a href=\"http://auctions.nba.com?ls=iref:nba:gnav\" title=\"Auctions\" class=\"\" target=>Auctions</a> </li> <li> <a href=\"http://nbagameworn.com\" title=\"NBAGameworn.com\" class=\"\" target=>NBAGameworn.com</a> </li> </ul> </div> </div> </li> <li class=\"nbaMenuLeft\"> <a href=\"\" title=\"\" class=\"\" target=>More</a> <div class=\"nbaNavDropdown \"> <div class=\"nbaPrimary\"> <ul> <li> <a href=\"http://pr.nba.com/?ls=iref:nba:gnav\" title=\"NBA Communications\" class=\"\" target=>NBA Communications</a> </li> <li> <a href=\"/news/officiating/index.html?ls=iref:nba:gnav\" title=\"Link to Officials and Rulebook\" class=\"\" target=>Officials &amp; Rulebook</a> </li> <li> <a href=\"http://official.nba.com/2015-16-updates/\" title=\"Replay Center\" class=\"\" target=>Replay Center</a> </li> <li> <a href=\"http://www.nba.com/news/faq\" title=\"Frequently Asked Questions\" class=\"\" target=>NBA FAQs</a> </li> <li> <a href=\"/photos/index.html?ls=iref:nba:gnav\" title=\"Link to NBA Photos\" class=\"\" target=>NBA Photos</a> </li> <li> <a href=\"http://www.nba.com/style\" title=\"NBA Style\" class=\"\" target=>NBA Style</a> </li> <li> <a href=\"http://jr.nba.com?ls=iref:nba:gnav\" title=\"Jr. NBA\" class=\"\" target=>Jr. NBA</a> </li> <li> <a href=\"http://www.usabasketball.com\" title=\"USA Basketball\" class=\"\" target=>USA Basketball</a> </li> </ul> </div> <div class=\"nbaSecondary\"> <span class=\"nbaNavSubheading\">Social Media</span> <ul> <li> <a href=\"http://www.facebook.com/nba\" title=\"Link to NBA on Facebook\" class=\"_blank\" target=_blank>NBA on Facebook</a> </li> <li> <a href=\"https://twitter.com/nba\" title=\"Link to NBA on Twitter\" class=\"_blank\" target=_blank>NBA on Twitter</a> </li> <li> <a href=\"http://instagram.com/nba/\" title=\"Link to NBA on Instagram\" class=\"_blank\" target=_blank>NBA on Instagram</a> </li> <li> <a href=\"http://www.pinterest.com/nba/\" title=\"Link to NBA on Pinterest\" class=\"_blank\" target=_blank>NBA on Pinterest</a> </li> <li> <a href=\"http://nba.tumblr.com\" title=\"Link to NBA Tumblr\" class=\"_blank\" target=_blank>NBA Tumblr</a> </li> <li> <a href=\"http://www.nba.com/news/milq\" title=\"NBA on Milq\" class=\"\" target=>NBA on Milq</a> </li> <li> <a href=\"/social-spotlight?ls=iref:nba:gnav\" title=\"Link to Social Spotlight\" class=\"\" target=>Social Spotlight</a> </li> <li> <a href=\"/pulse?ls=iref:nba:gnav\" title=\"Link to NBA Pulse\" class=\"\" target=>NBA Pulse</a> </li> </ul> </div> </div> </li> </ul> </nav> <div id=\"nbaSearch\"> <div class=\"nbaSkin\"></div> <form action=\"/search\" method=\"get\"> <label for=\"nbaSearchInput\" title=\"Search NBA.com\">Search</label> <input id=\"nbaSearchInput\" name=\"text\" title=\"Search NBA.com Input\" type=\"text\" value=\"\" /> <button class=\"nbaSubmit\" title=\"Search NBA.com Submit\" type=\"submit\" value=\"Submit\"></button> </form> <style type=\"text/css\">\n",
      "\t#clockBG_Kia {\n",
      "\t\tfloat \t\t: right;\n",
      "\t\twidth \t\t: 355px;\n",
      "\t\theight \t\t: 43px;\n",
      "\t\tmargin-top \t: -32px;\n",
      "\t}\n",
      "\t#clock_Kia {\n",
      "\t\tmargin-left\t\t: -50px;\n",
      "\t\tmargin-top\t\t: -30px;\n",
      "\t\tcolor \t\t\t: #FFF;\n",
      "\t\tfont-family\t\t: Arial;\n",
      "\t\tfont-size \t\t: 22px;\n",
      "\t\tfont-weight\t\t: bold;\n",
      "\t\tletter-spacing\t: 0;\n",
      "\t\tword-spacing\t: 12px;\n",
      "\t} \n",
      "\t#cntdwn_Kia {\n",
      "\t\tcolor \t\t\t: #FFF !important;\n",
      "\t\tposition \t\t: absolute;\n",
      "\t\tleft \t\t\t: 726px;\n",
      "\t\ttop \t\t\t: 19px;\n",
      "\t\tword-spacing\t: 15px;\n",
      "\t\tfont-size\t\t: 19px;\n",
      "\t}\n",
      "\t#nbaHeader #nbaSearch #nbaClockBG {\n",
      "\t\theight\t\t: 43px;\n",
      "\t\tposition\t: absolute !important;\n",
      "\t\ttop\t\t\t: 0 !important;\n",
      "\t\twidth\t\t: 1000px;\n",
      "\t}\n",
      "</style>\n",
      "<script language=\"JavaScript\">\n",
      "function renderSearchBarLeft() {\n",
      "\t$(\".nbaSkin\").html(\"<div class='nbaSearchBar'><div class='nbaSearchLeft'><span style='display:block;float:left;height:43px;left:111px;position:relative;top:0px;width:245px;'><img src='http://i.cdn.turner.com/nba/nba/.element/img/3.0/sect/searchbar/season-2015/play.png' alt='This Is Why We Play' title='This Is Why We Play' style='padding:6px 29px 7px 30px;'/></span></div></div>\");\n",
      "}\n",
      "</script>\n",
      "\n",
      "\t\t\n",
      "\t\t\t<script language=\"JavaScript\">\n",
      "\t\t\t\tTargetDate\t\t= \"10/27/2015 08:00:00 PM UTC-0400\";\n",
      "\t\t\t\tBackColor \t\t= \"none\";\n",
      "\t\t\t\tForeColor\t\t= \"#FFF\";\n",
      "\t\t\t\tCountActive \t= true;\n",
      "\t\t\t\tCountStepper\t= -1;\n",
      "\t\t\t\tLeadingZero\t\t= true;\n",
      "\t\t\t\tDisplayFormat\t= \"%%D%% %%H%% %%M%% %%S%%\";\n",
      "\t\t\t\tFinishMessage\t= \"Now Playing&nbsp;\";\n",
      "\n",
      "\t\t\t\t/* determine what to display, e.g. 12d, 8h, 6m, 4s */\n",
      "\t\t\t\tfunction calcTime(secs, num1, num2) {\n",
      "\t\t\t\t\tkia_seconds = ((Math.floor(secs / num1)) % num2).toString();\n",
      "\t\t\t\t\tif (LeadingZero && kia_seconds.length < 2) {\n",
      "\t\t\t\t\t\tkia_seconds = \"0\" + kia_seconds;\n",
      "\t\t\t\t\t}\n",
      "\t\t\t\t\treturn \"<b>\" + kia_seconds + \"</b>\";\n",
      "\t\t\t\t}\n",
      "\t\t\t\t\n",
      "\t\t\t\tfunction countKia(secs) {\n",
      "\t\t\t\t\tvar kia = $(\"#cntdwn_Kia\");\n",
      "\t\t\t\t\t/* is the countdown complete? */\n",
      "\t\t\t\t\tif (secs < 0) {\n",
      "\t\t\t\t\t\tsetTimeout(deleteKia, 100);\n",
      "\t\t\t\t\t\treturn;\n",
      "\t\t\t\t\t}\n",
      "\t\t\t\t\tDisplayStr = DisplayFormat.replace(/%%D%%/g, calcTime(secs, 86400, 100000) + \"<span class='timeElement'>D</span>\");\n",
      "\t\t\t\t\tDisplayStr = DisplayStr.replace(/%%H%%/g, calcTime(secs, 3600, 24) + \"<span class='timeElement'>H</span>\");\n",
      "\t\t\t\t\tDisplayStr = DisplayStr.replace(/%%M%%/g, calcTime(secs, 60, 60) + \"<span class='timeElement'>M</span>\");\n",
      "\t\t\t\t\tDisplayStr = DisplayStr.replace(/%%S%%/g, calcTime(secs, 1, 60) + \"<span class='timeElement'>S</span>\");\n",
      "\t\t\t\t\t\n",
      "\t\t\t\t\t$( '#body_Right_Kia' ).addClass( 'tipoff_clock' );\n",
      "\t\t\t\t\t$(\".nbaSkin\").addClass(\"kia\");\n",
      "\t\t\t\t\t$(\"#nbaCountdownTime\").css(\"float\", \"left\");\n",
      "\t\t\t\t\t$(\"#nbaCountdownTime\").css(\"width\", \"255px\");\n",
      "\t\t\t\t\t$(\"#nbaCountdownTime\").css(\"right\", \"-35px\");\n",
      "\t\t\t\t\t\n",
      "\t\t\t\t\t/* update the clock */\n",
      "\t\t\t\t\t$( '#nbaCountdownTime' ).html(DisplayStr);\n",
      "\t\t\t\tif (CountActive) {\n",
      "\t\t\t\t\t\tsetTimeout(\"countKia(\" + (secs + CountStepper) + \")\", SetTimeOutPeriod);\n",
      "\t\t\t\t\t}\n",
      "\t\t\t\t}\n",
      "\t\t\t\t\n",
      "\t\t\t\tfunction deleteKia(){\n",
      "\t\t\t\t\t/* remove the Kia Countdown Timer and replace the BG Skin */\n",
      "\t\t\t\t\t$('#nbaCountdownTime').remove();\n",
      "\t\t\t\t\t$( '#body_Right_Kia' ).addClass( 'now_playing_kia_right' );\n",
      "\t\t\t\t\t$('.nbaSkin').addClass(\"nowPlaying\");\n",
      "\t\t\t\t\t/* add in the TNT OT clock */\n",
      "\t\t\t\t\t$('#body_Right_Tnt').load('/.element/ssi/sect/3.0/home/countdownClockAuto.html'); \n",
      "\t\t\t\t\trenderSearchBarLeft();\n",
      "\t\t\t\t}\t\t\t\t\n",
      "\t\t\t\t\n",
      "\t\t\t\tfunction createKia() {\n",
      "\t\t\t\t\tvar dthen = new Date(TargetDate);\n",
      "\t\t\t\t\tvar dnow = nbaCurrTime;\n",
      "\n",
      "\t\t\t\t\tif ( CountStepper > 0 ) {\n",
      "\t\t\t\t\t\tddiff = new Date(dnow - dthen);\n",
      "\t\t\t\t\t} else {\n",
      "\t\t\t\t\t\tddiff = new Date(dthen - dnow);\n",
      "\t\t\t\t\t}\n",
      "\n",
      "\t\t\t\t\t/* determine how many seconds are left in the countdown */\n",
      "\t\t\t\t\tgsecs = Math.floor( ddiff.valueOf() / 1000 );\n",
      "\t\t\t\t\t/* executed upon page load */\n",
      "\t\t\t\t\tif( gsecs < 0 ) {\n",
      "\t\t\t\t\t\t/* add the KIA class */\n",
      "\t\t\t\t\t\t$(\".nbaSkin\").addClass(\"kia\");\n",
      "\t\t\t\t\t\tdeleteKia();\n",
      "\t\t\t\t\t} else {\n",
      "\t\t\t\t\t\tcountKia(gsecs);\n",
      "\t\t\t\t\t}\n",
      "\t\t\t\t\trenderSearchBarLeft();\n",
      "\t\t\t\t}\n",
      "\t\t\t\t\n",
      "\t\t\t\tCountStepper = Math.ceil( CountStepper );\n",
      "\n",
      "\t\t\t\tif ( CountStepper == 0 ) { CountActive = false; }\n",
      "\n",
      "\t\t\t\tvar SetTimeOutPeriod = ( Math.abs( CountStepper ) - 1 ) * 1000 + 990;\n",
      "\t\t\t\t\n",
      "\t\t\t\t$( document ).ready( function() {\n",
      "\t\t\t\t\t/* create the HTML */\n",
      "\t\t\t\t\tsetTimeout( createKia, 100 );\n",
      "\t\t\t\t});\n",
      "\t\t\t</script>\n",
      "\t\t\n",
      "\t\n",
      "\n",
      "<div id=\"body_Right_Kia\" class=\"hidden-phone hidden-tablet\">\n",
      "\t<p id=\"nbaCountdownTime\"></p>\n",
      "</div>\n",
      "<div id=\"body_Right_Tnt\" class=\"hidden-phone hidden-tablet\"></div>\n",
      "\n",
      "\n",
      " \n",
      "\n",
      "\n",
      "\n",
      "\n",
      " </div> <script src=\"http://z.cdn.turner.com/nba/tmpl_asset/static/nba-cms3-desktop/1541/js/pkgAllAccessOverlay-min.js\"></script> <div class=\"nbaSocial \"> <div class=\"nbaLogin\"> <div class=\"nbaGlobal\"><a href=\"http://www.nba.com/global?ls=iref:nba:gnav\" title=\"Link to NBA Global Homepage\">NBA Global</a></div> <div class=\"nbaWNBA\"><a href=\"http://www.wnba.com?ls=iref:nba:gnav\" title=\"Link to WNBA Homepage\">WNBA</a></div> <div class=\"nbaDleague\"><a href=\"http://www.nba.com/dleague?ls=iref:nba:gnav\" title=\"Link to NBA D-League\">NBA Dleague</a></div> <div class=\"nbaJr\"><a href=\"http://jr.nba.com/?ls=iref:nba:gnav\" title=\"Link to Jr. NBA\">Jr. NBA</a></div> </div> </div> <nav id=\"nbaStoreNav\" class=\"\"> <ul> <li class=\"nbaStore nbaMenuLeft\"> <a href=\"/global/storelinkhandler.html\" title=\"Link to NBA Store\">Store</a> <div class=\"nbaNavDropdown\"> <div class=\"nbaPrimary\"> <ul> <li><a href=\"/global/storelinkhandler.html?cat=NBA_Jerseys&ls=iref:nba:gnav\" title=\"Link to Jerseys\">Jerseys</a></li> <li><a href=\"/global/storelinkhandler.html?cat=NBA_Mens&ls=iref:nba:gnav\" title=\"Link to Mens\">Mens</a></li> <li><a href=\"/global/storelinkhandler.html?cat=NBA_Kids&ls=iref:nba:gnav\" title=\"Link to Kids\">Kids</a></li> <li><a href=\"/global/storelinkhandler.html?cat=NBA_NBA4Her&ls=iref:nba:gnav\" title=\"Link to NBA for Her\">NBA4HER</a></li> <li><a href=\"/global/storelinkhandler.html?cat=NBA_CustomShop&ls=iref:nba:gnav\" title=\"Link to Custom Shop\">Custom Shop</a></li> <li><a href=\"/global/storelinkhandler.html?cat=NBA_Headwear&ls=iref:nba:gnav\" title=\"Link to Headwear\">Headwear</a></li> <li><a href=\"http://www.nba.com/global/storelinkhandler.html?cat=nba_basketballs\" title=\"Link to Basketballs\">Basketballs</a></li> <li><a href=\"/global/storelinkhandler.html?cat=NBA_Footwear&ls=iref:nba:gnav\" title=\"Link to Footwear\">Footwear</a></li> <li><a href=\"/global/storelinkhandler.html?cat=NBA_WhatsHot&ls=iref:nba:gnav\" title=\"Link to What's Hot\">What's Hot</a></li> <li><a href=\"http://auctions.nba.com?ls=iref:nba:gnav\" title=\"Link to Auctions\">Auctions</a></li> <li><a href=\"http://nbagameworn.com/?ls=iref:nba:gnav\" title=\"Link to NBA Game Worn\">NBAGameworn.com</a></li> <li><a href=\"/nycstore?ls=iref:nba:gnav\" title=\"Link to NYC Store\">NYC Store</a></li> </ul> </div> </div> </li> </ul> </nav> <div id=\"navAccount\"> </div> <div id=\"navAccthover\"> </div> </header> <!-->,  .com/playerfile/andre_drummond/&quot;&gt;\n",
      ", <div class=\"nbaLeadersBg nbaTeamDET\">DET</div>, \n",
      ", <div class=\"nbaLeadersLogo nbaTeamDET\">DET</div>, \n",
      ", <img alt=\"\" onError=\"this.onerror=null;this.src='http://i.cdn.turner.com/nba/nba/.element/img/2.0/sect/statscube/players/large/default_nba_headshot_v2.png';\" data-src=\"http://i.cdn.turner.com/nba/nba/.element/img/2.0/sect/statscube/players/large/andre_drummond.png\" src=\"http://i.cdn.turner.com/nba/tmpl_asset/static/nba-cms3-homepage/1641/elements/global/no.png\" class=\"nbaLeadersPhoto nbaDelayedImgLoad\"/>, \n",
      ", <noscript><img alt=\"\" src=\"http://i.cdn.turner.com/nba/nba/.element/img/2.0/sect/statscube/players/large/andre_drummond.png\" class=\"nbaLeadersPhoto\"/></noscript>, \n",
      ", <ul class=\"nbaLeadersDetails\">\n",
      "<h4><li class=\"nbaLeadersType\"><span class=\"nbaNoJsAssist\">Rebounds<br/></span> Season Leader <sup/></li></h4>\n",
      "<li class=\"nbaLeadersName\">1. Andre Drummond</li>\n",
      "<li class=\"nbaLeadersPoints\">17.8</li>\n",
      "</ul>, \n",
      ")\n"
     ]
    },
    {
     "data": {
      "text/plain": [
       "\u001b[36mp\u001b[0m: \u001b[32mxml\u001b[0m.\u001b[32mNodeSeq\u001b[0m = \u001b[33mDocument\u001b[0m(\n",
       "  <ul class=\"nbaLeadersDetails\">\n",
       "<h4><li class=\"nbaLeadersType\"><span class=\"nbaNoJsAssist\">Rebounds<br/></span> Season Leader <sup/></li></h4>\n",
       "<li class=\"nbaLeadersName\">1. Andre Drummond</li>\n",
       "<li class=\"nbaLeadersPoints\">17.8</li>\n",
       "</ul>\n",
       ")"
      ]
     },
     "metadata": {},
     "output_type": "display_data"
    }
   ],
   "source": [
    "val p = XhtmlParser(s)"
   ]
  },
  {
   "cell_type": "code",
   "execution_count": 30,
   "metadata": {
    "collapsed": false
   },
   "outputs": [
    {
     "data": {
      "text/plain": [
       "\u001b[36mres27\u001b[0m: \u001b[32mInt\u001b[0m = \u001b[32m1\u001b[0m"
      ]
     },
     "metadata": {},
     "output_type": "display_data"
    }
   ],
   "source": [
    "p.length"
   ]
  },
  {
   "cell_type": "code",
   "execution_count": null,
   "metadata": {
    "collapsed": true
   },
   "outputs": [],
   "source": []
  }
 ],
 "metadata": {
  "kernelspec": {
   "display_name": "Scala 2.11",
   "language": "scala211",
   "name": "scala211"
  },
  "language_info": {
   "codemirror_mode": "text/x-scala",
   "file_extension": "scala",
   "mimetype": "text/x-scala",
   "name": "scala211",
   "pygments_lexer": "scala",
   "version": "2.11.6"
  }
 },
 "nbformat": 4,
 "nbformat_minor": 0
}
