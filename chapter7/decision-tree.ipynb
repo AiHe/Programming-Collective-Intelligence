{
 "cells": [
  {
   "cell_type": "code",
   "execution_count": 1,
   "metadata": {
    "collapsed": false
   },
   "outputs": [
    {
     "data": {
      "text/plain": []
     },
     "metadata": {},
     "output_type": "display_data"
    }
   ],
   "source": [
    "load.jar(\"target/scala-2.11/chapter7_2.11-1.0.jar\")"
   ]
  },
  {
   "cell_type": "code",
   "execution_count": 2,
   "metadata": {
    "collapsed": false
   },
   "outputs": [
    {
     "data": {
      "text/plain": [
       "\u001b[36mdata\u001b[0m: \u001b[32mDecisionTree\u001b[0m.\u001b[32mDataSet\u001b[0m = \u001b[33mStream\u001b[0m(\n",
       "  \u001b[33mArray\u001b[0m(\u001b[32m\"slashdot\"\u001b[0m, \u001b[32m\"USA\"\u001b[0m, \u001b[32m\"yes\"\u001b[0m, \u001b[32m\"18\"\u001b[0m, \u001b[32m\"None\"\u001b[0m),\n",
       "  \u001b[33mArray\u001b[0m(\u001b[32m\"google\"\u001b[0m, \u001b[32m\"France\"\u001b[0m, \u001b[32m\"yes\"\u001b[0m, \u001b[32m\"23\"\u001b[0m, \u001b[32m\"Premium\"\u001b[0m),\n",
       "  \u001b[33mArray\u001b[0m(\u001b[32m\"digg\"\u001b[0m, \u001b[32m\"USA\"\u001b[0m, \u001b[32m\"yes\"\u001b[0m, \u001b[32m\"24\"\u001b[0m, \u001b[32m\"Basic\"\u001b[0m),\n",
       "  \u001b[33mArray\u001b[0m(\u001b[32m\"kiwitobes\"\u001b[0m, \u001b[32m\"France\"\u001b[0m, \u001b[32m\"yes\"\u001b[0m, \u001b[32m\"23\"\u001b[0m, \u001b[32m\"Basic\"\u001b[0m),\n",
       "  \u001b[33mArray\u001b[0m(\u001b[32m\"google\"\u001b[0m, \u001b[32m\"UK\"\u001b[0m, \u001b[32m\"no\"\u001b[0m, \u001b[32m\"21\"\u001b[0m, \u001b[32m\"Premium\"\u001b[0m),\n",
       "  \u001b[33mArray\u001b[0m(\u001b[32m\"(direct)\"\u001b[0m, \u001b[32m\"New Zealand\"\u001b[0m, \u001b[32m\"no\"\u001b[0m, \u001b[32m\"12\"\u001b[0m, \u001b[32m\"None\"\u001b[0m),\n",
       "  \u001b[33mArray\u001b[0m(\u001b[32m\"(direct)\"\u001b[0m, \u001b[32m\"UK\"\u001b[0m, \u001b[32m\"no\"\u001b[0m, \u001b[32m\"21\"\u001b[0m, \u001b[32m\"Basic\"\u001b[0m),\n",
       "  \u001b[33mArray\u001b[0m(\u001b[32m\"google\"\u001b[0m, \u001b[32m\"USA\"\u001b[0m, \u001b[32m\"no\"\u001b[0m, \u001b[32m\"24\"\u001b[0m, \u001b[32m\"Premium\"\u001b[0m\u001b[33m...\u001b[0m"
      ]
     },
     "metadata": {},
     "output_type": "display_data"
    }
   ],
   "source": [
    "val data = DecisionTree.myData"
   ]
  },
  {
   "cell_type": "code",
   "execution_count": 3,
   "metadata": {
    "collapsed": false
   },
   "outputs": [
    {
     "data": {
      "text/plain": [
       "\u001b[36ma\u001b[0m: \u001b[32mDecisionTree\u001b[0m.\u001b[32mDataSet\u001b[0m = \u001b[33mStream\u001b[0m(\n",
       "  \u001b[33mArray\u001b[0m(\u001b[32m\"google\"\u001b[0m, \u001b[32m\"France\"\u001b[0m, \u001b[32m\"yes\"\u001b[0m, \u001b[32m\"23\"\u001b[0m, \u001b[32m\"Premium\"\u001b[0m),\n",
       "  \u001b[33mArray\u001b[0m(\u001b[32m\"digg\"\u001b[0m, \u001b[32m\"USA\"\u001b[0m, \u001b[32m\"yes\"\u001b[0m, \u001b[32m\"24\"\u001b[0m, \u001b[32m\"Basic\"\u001b[0m),\n",
       "  \u001b[33mArray\u001b[0m(\u001b[32m\"kiwitobes\"\u001b[0m, \u001b[32m\"France\"\u001b[0m, \u001b[32m\"yes\"\u001b[0m, \u001b[32m\"23\"\u001b[0m, \u001b[32m\"Basic\"\u001b[0m),\n",
       "  \u001b[33mArray\u001b[0m(\u001b[32m\"google\"\u001b[0m, \u001b[32m\"USA\"\u001b[0m, \u001b[32m\"no\"\u001b[0m, \u001b[32m\"24\"\u001b[0m, \u001b[32m\"Premium\"\u001b[0m)\n",
       ")\n",
       "\u001b[36mb\u001b[0m: \u001b[32mDecisionTree\u001b[0m.\u001b[32mDataSet\u001b[0m = \u001b[33mStream\u001b[0m(\n",
       "  \u001b[33mArray\u001b[0m(\u001b[32m\"slashdot\"\u001b[0m, \u001b[32m\"USA\"\u001b[0m, \u001b[32m\"yes\"\u001b[0m, \u001b[32m\"18\"\u001b[0m, \u001b[32m\"None\"\u001b[0m),\n",
       "  \u001b[33mArray\u001b[0m(\u001b[32m\"google\"\u001b[0m, \u001b[32m\"UK\"\u001b[0m, \u001b[32m\"no\"\u001b[0m, \u001b[32m\"21\"\u001b[0m, \u001b[32m\"Premium\"\u001b[0m),\n",
       "  \u001b[33mArray\u001b[0m(\u001b[32m\"(direct)\"\u001b[0m, \u001b[32m\"New Zealand\"\u001b[0m, \u001b[32m\"no\"\u001b[0m, \u001b[32m\"12\"\u001b[0m, \u001b[32m\"None\"\u001b[0m),\n",
       "  \u001b[33mArray\u001b[0m(\u001b[32m\"(direct)\"\u001b[0m, \u001b[32m\"UK\"\u001b[0m, \u001b[32m\"no\"\u001b[0m, \u001b[32m\"21\"\u001b[0m, \u001b[32m\"Basic\"\u001b[0m),\n",
       "  \u001b[33mArray\u001b[0m(\u001b[32m\"slashdot\"\u001b[0m, \u001b[32m\"France\"\u001b[0m, \u001b[32m\"yes\"\u001b[0m, \u001b[32m\"19\"\u001b[0m, \u001b[32m\"None\"\u001b[0m),\n",
       "  \u001b[33mArray\u001b[0m(\u001b[32m\"digg\"\u001b[0m, \u001b[32m\"USA\"\u001b[0m, \u001b[32m\"no\"\u001b[0m, \u001b[32m\"18\"\u001b[0m, \u001b[32m\"None\"\u001b[0m),\n",
       "  \u001b[33mArray\u001b[0m(\u001b[32m\"google\"\u001b[0m, \u001b[32m\"UK\"\u001b[0m, \u001b[32m\"no\"\u001b[0m, \u001b[32m\"18\"\u001b[0m, \u001b[32m\"None\"\u001b[0m),\n",
       "  \u001b[33mArray\u001b[0m(\u001b[32m\"kiwitobes\"\u001b[0m, \u001b[32m\"UK\"\u001b[0m, \u001b[32m\"no\"\u001b[0m, \u001b[32m\"19\"\u001b[0m, \u001b[32m\"None\"\u001b[0m),\n",
       "\u001b[33m...\u001b[0m"
      ]
     },
     "metadata": {},
     "output_type": "display_data"
    }
   ],
   "source": [
    "val (a, b) = DecisionTree.divideSet(data, 3, 22)"
   ]
  },
  {
   "cell_type": "code",
   "execution_count": null,
   "metadata": {
    "collapsed": true
   },
   "outputs": [],
   "source": []
  },
  {
   "cell_type": "code",
   "execution_count": 4,
   "metadata": {
    "collapsed": false
   },
   "outputs": [
    {
     "data": {
      "text/plain": [
       "\u001b[36mg\u001b[0m: \u001b[32mDecisionTree\u001b[0m.\u001b[32mGini\u001b[0m.type = DecisionTree$Gini$@29128279"
      ]
     },
     "metadata": {},
     "output_type": "display_data"
    }
   ],
   "source": [
    "val g = DecisionTree.Gini"
   ]
  },
  {
   "cell_type": "code",
   "execution_count": 5,
   "metadata": {
    "collapsed": false
   },
   "outputs": [
    {
     "data": {
      "text/plain": [
       "\u001b[36mres4\u001b[0m: \u001b[32mDouble\u001b[0m = \u001b[32m0.6328125\u001b[0m"
      ]
     },
     "metadata": {},
     "output_type": "display_data"
    }
   ],
   "source": [
    "g.calculate(DecisionTree.myData)"
   ]
  },
  {
   "cell_type": "code",
   "execution_count": 6,
   "metadata": {
    "collapsed": false
   },
   "outputs": [
    {
     "data": {
      "text/plain": [
       "\u001b[36me\u001b[0m: \u001b[32mDecisionTree\u001b[0m.\u001b[32mEntropy\u001b[0m.type = DecisionTree$Entropy$@7800b374"
      ]
     },
     "metadata": {},
     "output_type": "display_data"
    }
   ],
   "source": [
    "val e = DecisionTree.Entropy"
   ]
  },
  {
   "cell_type": "code",
   "execution_count": 7,
   "metadata": {
    "collapsed": false
   },
   "outputs": [
    {
     "data": {
      "text/plain": [
       "\u001b[36mres6\u001b[0m: \u001b[32mDouble\u001b[0m = \u001b[32m1.5052408149441479\u001b[0m"
      ]
     },
     "metadata": {},
     "output_type": "display_data"
    }
   ],
   "source": [
    "e.calculate(DecisionTree.myData)"
   ]
  },
  {
   "cell_type": "code",
   "execution_count": null,
   "metadata": {
    "collapsed": true
   },
   "outputs": [],
   "source": []
  },
  {
   "cell_type": "code",
   "execution_count": 8,
   "metadata": {
    "collapsed": false
   },
   "outputs": [
    {
     "data": {
      "text/plain": [
       "\u001b[36mtree\u001b[0m: \u001b[32mDecisionTree\u001b[0m.\u001b[32mNode\u001b[0m = Branch(0,google,Branch(3,21.0,Leaf(Map(Premium -> 3)),Branch(2,no,Leaf(Map(None -> 1)),Leaf(Map(Basic -> 1)))),Branch(0,slashdot,Leaf(Map(None -> 3)),Branch(2,yes,Leaf(Map(Basic -> 4)),Branch(3,21.0,Leaf(Map(Basic -> 1)),Leaf(Map(None -> 3))))))"
      ]
     },
     "metadata": {},
     "output_type": "display_data"
    }
   ],
   "source": [
    "val tree = DecisionTree.buildTree(DecisionTree.myData)"
   ]
  },
  {
   "cell_type": "code",
   "execution_count": null,
   "metadata": {
    "collapsed": true
   },
   "outputs": [],
   "source": []
  },
  {
   "cell_type": "code",
   "execution_count": 9,
   "metadata": {
    "collapsed": false
   },
   "outputs": [
    {
     "data": {
      "text/plain": [
       "\u001b[36mres8\u001b[0m: \u001b[32mDecisionTree\u001b[0m.\u001b[32mResult\u001b[0m = \u001b[33mMap\u001b[0m(\u001b[32m\"Basic\"\u001b[0m -> \u001b[32m4\u001b[0m)"
      ]
     },
     "metadata": {},
     "output_type": "display_data"
    }
   ],
   "source": [
    "DecisionTree.classify(Seq(\"(direct)\", \"USA\", \"yes\", \"5\"), tree)"
   ]
  },
  {
   "cell_type": "code",
   "execution_count": null,
   "metadata": {
    "collapsed": true
   },
   "outputs": [],
   "source": []
  }
 ],
 "metadata": {
  "kernelspec": {
   "display_name": "Scala 2.11",
   "language": "scala211",
   "name": "scala211"
  },
  "language_info": {
   "codemirror_mode": "text/x-scala",
   "file_extension": "scala",
   "mimetype": "text/x-scala",
   "name": "scala211",
   "pygments_lexer": "scala",
   "version": "2.11.6"
  }
 },
 "nbformat": 4,
 "nbformat_minor": 0
}
