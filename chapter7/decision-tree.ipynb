{
 "cells": [
  {
   "cell_type": "code",
   "execution_count": 1,
   "metadata": {
    "collapsed": false
   },
   "outputs": [
    {
     "data": {
      "text/plain": []
     },
     "metadata": {},
     "output_type": "display_data"
    }
   ],
   "source": [
    "load.jar(\"target/scala-2.11/chapter7_2.11-1.0.jar\")"
   ]
  },
  {
   "cell_type": "code",
   "execution_count": 2,
   "metadata": {
    "collapsed": false
   },
   "outputs": [
    {
     "data": {
      "text/plain": [
       "\u001b[36mdata\u001b[0m: \u001b[32mSeq\u001b[0m[\u001b[32mSeq\u001b[0m[\u001b[32mString\u001b[0m]] = \u001b[33mStream\u001b[0m(\n",
       "  \u001b[33mArray\u001b[0m(\u001b[32m\"slashdot\"\u001b[0m, \u001b[32m\"USA\"\u001b[0m, \u001b[32m\"yes\"\u001b[0m, \u001b[32m\"18\"\u001b[0m, \u001b[32m\"None\"\u001b[0m),\n",
       "  \u001b[33mArray\u001b[0m(\u001b[32m\"google\"\u001b[0m, \u001b[32m\"France\"\u001b[0m, \u001b[32m\"yes\"\u001b[0m, \u001b[32m\"23\"\u001b[0m, \u001b[32m\"Premium\"\u001b[0m),\n",
       "  \u001b[33mArray\u001b[0m(\u001b[32m\"digg\"\u001b[0m, \u001b[32m\"USA\"\u001b[0m, \u001b[32m\"yes\"\u001b[0m, \u001b[32m\"24\"\u001b[0m, \u001b[32m\"Basic\"\u001b[0m),\n",
       "  \u001b[33mArray\u001b[0m(\u001b[32m\"kiwitobes\"\u001b[0m, \u001b[32m\"France\"\u001b[0m, \u001b[32m\"yes\"\u001b[0m, \u001b[32m\"23\"\u001b[0m, \u001b[32m\"Basic\"\u001b[0m),\n",
       "  \u001b[33mArray\u001b[0m(\u001b[32m\"google\"\u001b[0m, \u001b[32m\"UK\"\u001b[0m, \u001b[32m\"no\"\u001b[0m, \u001b[32m\"21\"\u001b[0m, \u001b[32m\"Premium\"\u001b[0m),\n",
       "  \u001b[33mArray\u001b[0m(\u001b[32m\"(direct)\"\u001b[0m, \u001b[32m\"New Zealand\"\u001b[0m, \u001b[32m\"no\"\u001b[0m, \u001b[32m\"12\"\u001b[0m, \u001b[32m\"None\"\u001b[0m),\n",
       "  \u001b[33mArray\u001b[0m(\u001b[32m\"(direct)\"\u001b[0m, \u001b[32m\"UK\"\u001b[0m, \u001b[32m\"no\"\u001b[0m, \u001b[32m\"21\"\u001b[0m, \u001b[32m\"Basic\"\u001b[0m),\n",
       "  \u001b[33mArray\u001b[0m(\u001b[32m\"google\"\u001b[0m, \u001b[32m\"USA\"\u001b[0m, \u001b[32m\"no\"\u001b[0m, \u001b[32m\"24\"\u001b[0m, \u001b[32m\"Premium\"\u001b[0m\u001b[33m...\u001b[0m"
      ]
     },
     "metadata": {},
     "output_type": "display_data"
    }
   ],
   "source": [
    "val data = DecisionTree.myData"
   ]
  },
  {
   "cell_type": "code",
   "execution_count": 7,
   "metadata": {
    "collapsed": false
   },
   "outputs": [
    {
     "name": "stdout",
     "output_type": "stream",
     "text": [
      "(18.0,22.0)\n",
      "(23.0,22.0)\n",
      "(18.0,22.0)\n",
      "(23.0,22.0)\n",
      "(24.0,22.0)\n",
      "(23.0,22.0)\n",
      "(21.0,22.0)\n",
      "(12.0,22.0)\n",
      "(21.0,22.0)\n",
      "(24.0,22.0)\n",
      "(19.0,22.0)\n",
      "(18.0,22.0)\n",
      "(18.0,22.0)\n",
      "(19.0,22.0)\n",
      "(12.0,22.0)\n",
      "(21.0,22.0)\n",
      "(18.0,22.0)\n",
      "(19.0,22.0)\n",
      "(24.0,22.0)\n",
      "(23.0,22.0)\n",
      "(21.0,22.0)\n",
      "(12.0,22.0)\n",
      "(21.0,22.0)\n",
      "(24.0,22.0)\n",
      "(19.0,22.0)\n",
      "(18.0,22.0)\n",
      "(18.0,22.0)\n",
      "(19.0,22.0)\n",
      "(12.0,22.0)\n",
      "(21.0,22.0)\n",
      "(18.0,22.0)\n",
      "(19.0,22.0)\n"
     ]
    },
    {
     "data": {
      "text/plain": [
       "\u001b[36ma\u001b[0m: \u001b[32mSeq\u001b[0m[\u001b[32mSeq\u001b[0m[\u001b[32mString\u001b[0m]] = \u001b[33mStream\u001b[0m(\n",
       "  \u001b[33mArray\u001b[0m(\u001b[32m\"google\"\u001b[0m, \u001b[32m\"France\"\u001b[0m, \u001b[32m\"yes\"\u001b[0m, \u001b[32m\"23\"\u001b[0m, \u001b[32m\"Premium\"\u001b[0m),\n",
       "  \u001b[33mArray\u001b[0m(\u001b[32m\"digg\"\u001b[0m, \u001b[32m\"USA\"\u001b[0m, \u001b[32m\"yes\"\u001b[0m, \u001b[32m\"24\"\u001b[0m, \u001b[32m\"Basic\"\u001b[0m),\n",
       "  \u001b[33mArray\u001b[0m(\u001b[32m\"kiwitobes\"\u001b[0m, \u001b[32m\"France\"\u001b[0m, \u001b[32m\"yes\"\u001b[0m, \u001b[32m\"23\"\u001b[0m, \u001b[32m\"Basic\"\u001b[0m),\n",
       "  \u001b[33mArray\u001b[0m(\u001b[32m\"google\"\u001b[0m, \u001b[32m\"USA\"\u001b[0m, \u001b[32m\"no\"\u001b[0m, \u001b[32m\"24\"\u001b[0m, \u001b[32m\"Premium\"\u001b[0m)\n",
       ")\n",
       "\u001b[36mb\u001b[0m: \u001b[32mSeq\u001b[0m[\u001b[32mSeq\u001b[0m[\u001b[32mString\u001b[0m]] = \u001b[33mStream\u001b[0m(\n",
       "  \u001b[33mArray\u001b[0m(\u001b[32m\"slashdot\"\u001b[0m, \u001b[32m\"USA\"\u001b[0m, \u001b[32m\"yes\"\u001b[0m, \u001b[32m\"18\"\u001b[0m, \u001b[32m\"None\"\u001b[0m),\n",
       "  \u001b[33mArray\u001b[0m(\u001b[32m\"google\"\u001b[0m, \u001b[32m\"UK\"\u001b[0m, \u001b[32m\"no\"\u001b[0m, \u001b[32m\"21\"\u001b[0m, \u001b[32m\"Premium\"\u001b[0m),\n",
       "  \u001b[33mArray\u001b[0m(\u001b[32m\"(direct)\"\u001b[0m, \u001b[32m\"New Zealand\"\u001b[0m, \u001b[32m\"no\"\u001b[0m, \u001b[32m\"12\"\u001b[0m, \u001b[32m\"None\"\u001b[0m),\n",
       "  \u001b[33mArray\u001b[0m(\u001b[32m\"(direct)\"\u001b[0m, \u001b[32m\"UK\"\u001b[0m, \u001b[32m\"no\"\u001b[0m, \u001b[32m\"21\"\u001b[0m, \u001b[32m\"Basic\"\u001b[0m),\n",
       "  \u001b[33mArray\u001b[0m(\u001b[32m\"slashdot\"\u001b[0m, \u001b[32m\"France\"\u001b[0m, \u001b[32m\"yes\"\u001b[0m, \u001b[32m\"19\"\u001b[0m, \u001b[32m\"None\"\u001b[0m),\n",
       "  \u001b[33mArray\u001b[0m(\u001b[32m\"digg\"\u001b[0m, \u001b[32m\"USA\"\u001b[0m, \u001b[32m\"no\"\u001b[0m, \u001b[32m\"18\"\u001b[0m, \u001b[32m\"None\"\u001b[0m),\n",
       "  \u001b[33mArray\u001b[0m(\u001b[32m\"google\"\u001b[0m, \u001b[32m\"UK\"\u001b[0m, \u001b[32m\"no\"\u001b[0m, \u001b[32m\"18\"\u001b[0m, \u001b[32m\"None\"\u001b[0m),\n",
       "  \u001b[33mArray\u001b[0m(\u001b[32m\"kiwitobes\"\u001b[0m, \u001b[32m\"UK\"\u001b[0m, \u001b[32m\"no\"\u001b[0m, \u001b[32m\"19\"\u001b[0m, \u001b[32m\"None\"\u001b[0m),\n",
       "\u001b[33m...\u001b[0m"
      ]
     },
     "metadata": {},
     "output_type": "display_data"
    }
   ],
   "source": [
    "val (a, b) = DecisionTree.divideSet(data, 3, 22)"
   ]
  },
  {
   "cell_type": "code",
   "execution_count": null,
   "metadata": {
    "collapsed": true
   },
   "outputs": [],
   "source": []
  }
 ],
 "metadata": {
  "kernelspec": {
   "display_name": "Scala 2.11",
   "language": "scala211",
   "name": "scala211"
  },
  "language_info": {
   "codemirror_mode": "text/x-scala",
   "file_extension": "scala",
   "mimetype": "text/x-scala",
   "name": "scala211",
   "pygments_lexer": "scala",
   "version": "2.11.6"
  }
 },
 "nbformat": 4,
 "nbformat_minor": 0
}
