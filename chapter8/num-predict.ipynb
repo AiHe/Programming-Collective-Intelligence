{
 "cells": [
  {
   "cell_type": "code",
   "execution_count": 20,
   "metadata": {
    "collapsed": false
   },
   "outputs": [
    {
     "data": {
      "text/plain": []
     },
     "metadata": {},
     "output_type": "display_data"
    }
   ],
   "source": [
    "load.jar(\"target/scala-2.11/chapter8_2.11-1.0.jar\")"
   ]
  },
  {
   "cell_type": "code",
   "execution_count": null,
   "metadata": {
    "collapsed": true
   },
   "outputs": [],
   "source": []
  },
  {
   "cell_type": "code",
   "execution_count": 21,
   "metadata": {
    "collapsed": false
   },
   "outputs": [
    {
     "data": {
      "text/plain": [
       "\u001b[36mp1\u001b[0m: \u001b[32mDouble\u001b[0m = \u001b[32m21.11111111111111\u001b[0m"
      ]
     },
     "metadata": {},
     "output_type": "display_data"
    }
   ],
   "source": [
    "val p1 = NumPredict.winPrice(IndexedSeq(95, 3.0))"
   ]
  },
  {
   "cell_type": "code",
   "execution_count": 22,
   "metadata": {
    "collapsed": false
   },
   "outputs": [
    {
     "data": {
      "text/plain": [
       "\u001b[36mp2\u001b[0m: \u001b[32mDouble\u001b[0m = \u001b[32m47.5\u001b[0m"
      ]
     },
     "metadata": {},
     "output_type": "display_data"
    }
   ],
   "source": [
    "val p2 = NumPredict.winPrice(IndexedSeq(95, 8.0))"
   ]
  },
  {
   "cell_type": "code",
   "execution_count": 23,
   "metadata": {
    "collapsed": false
   },
   "outputs": [
    {
     "data": {
      "text/plain": [
       "\u001b[36mp3\u001b[0m: \u001b[32mDouble\u001b[0m = \u001b[32m10.10204081632653\u001b[0m"
      ]
     },
     "metadata": {},
     "output_type": "display_data"
    }
   ],
   "source": [
    "val p3 = NumPredict.winPrice(IndexedSeq(99, 1.0))"
   ]
  },
  {
   "cell_type": "code",
   "execution_count": null,
   "metadata": {
    "collapsed": true
   },
   "outputs": [],
   "source": []
  },
  {
   "cell_type": "code",
   "execution_count": 24,
   "metadata": {
    "collapsed": false
   },
   "outputs": [
    {
     "data": {
      "text/plain": [
       "\u001b[36mdata\u001b[0m: \u001b[32mNumPredict\u001b[0m.\u001b[32mDataSet\u001b[0m = \u001b[33mVector\u001b[0m(\n",
       "  \u001b[33m\u001b[0m(\n",
       "    \u001b[33mVector\u001b[0m(\u001b[32m85.38028529934137\u001b[0m, \u001b[32m36.06717054247993\u001b[0m),\n",
       "    \u001b[32m177.64348638073486\u001b[0m\n",
       "  ),\n",
       "  \u001b[33m\u001b[0m(\n",
       "    \u001b[33mVector\u001b[0m(\u001b[32m90.72063416056577\u001b[0m, \u001b[32m31.345555156186617\u001b[0m),\n",
       "    \u001b[32m196.0849885391319\u001b[0m\n",
       "  ),\n",
       "  \u001b[33m\u001b[0m(\n",
       "    \u001b[33mVector\u001b[0m(\u001b[32m68.03405402774598\u001b[0m, \u001b[32m7.275659139716289\u001b[0m),\n",
       "    \u001b[32m86.04496863659053\u001b[0m\n",
       "  ),\n",
       "  \u001b[33m\u001b[0m(\n",
       "    \u001b[33mVector\u001b[0m(\u001b[32m97.28474423631329\u001b[0m, \u001b[32m27.394605779630982\u001b[0m),\n",
       "\u001b[33m...\u001b[0m"
      ]
     },
     "metadata": {},
     "output_type": "display_data"
    }
   ],
   "source": [
    "val data = NumPredict.winSet"
   ]
  },
  {
   "cell_type": "code",
   "execution_count": null,
   "metadata": {
    "collapsed": true
   },
   "outputs": [],
   "source": []
  },
  {
   "cell_type": "code",
   "execution_count": 25,
   "metadata": {
    "collapsed": false
   },
   "outputs": [
    {
     "data": {
      "text/plain": [
       "\u001b[36md\u001b[0m: \u001b[32mDouble\u001b[0m = \u001b[32m7.128322230066657\u001b[0m"
      ]
     },
     "metadata": {},
     "output_type": "display_data"
    }
   ],
   "source": [
    "val d = NumPredict.euclidean(data(0)._1, data(1)._1)"
   ]
  },
  {
   "cell_type": "code",
   "execution_count": null,
   "metadata": {
    "collapsed": true
   },
   "outputs": [],
   "source": []
  },
  {
   "cell_type": "code",
   "execution_count": 26,
   "metadata": {
    "collapsed": false
   },
   "outputs": [
    {
     "data": {
      "text/plain": [
       "\u001b[36me1\u001b[0m: \u001b[32mDouble\u001b[0m = \u001b[32m18.95791386582853\u001b[0m"
      ]
     },
     "metadata": {},
     "output_type": "display_data"
    }
   ],
   "source": [
    "val e1 = NumPredict.knnEstimate(data, IndexedSeq(95, 3))"
   ]
  },
  {
   "cell_type": "code",
   "execution_count": 27,
   "metadata": {
    "collapsed": false
   },
   "outputs": [
    {
     "data": {
      "text/plain": [
       "\u001b[36me2\u001b[0m: \u001b[32mDouble\u001b[0m = \u001b[32m27.30464230136555\u001b[0m"
      ]
     },
     "metadata": {},
     "output_type": "display_data"
    }
   ],
   "source": [
    "val e2 = NumPredict.knnEstimate(data, IndexedSeq(99, 3))"
   ]
  },
  {
   "cell_type": "code",
   "execution_count": 28,
   "metadata": {
    "collapsed": false
   },
   "outputs": [
    {
     "data": {
      "text/plain": [
       "\u001b[36me3\u001b[0m: \u001b[32mDouble\u001b[0m = \u001b[32m35.153631896069186\u001b[0m"
      ]
     },
     "metadata": {},
     "output_type": "display_data"
    }
   ],
   "source": [
    "val e3 = NumPredict.knnEstimate(data, IndexedSeq(99, 5))"
   ]
  },
  {
   "cell_type": "code",
   "execution_count": 29,
   "metadata": {
    "collapsed": false
   },
   "outputs": [
    {
     "data": {
      "text/plain": [
       "\u001b[36mr3\u001b[0m: \u001b[32mDouble\u001b[0m = \u001b[32m30.306122448979593\u001b[0m"
      ]
     },
     "metadata": {},
     "output_type": "display_data"
    }
   ],
   "source": [
    "val r3 = NumPredict.winPrice(IndexedSeq(99, 5))"
   ]
  },
  {
   "cell_type": "code",
   "execution_count": 30,
   "metadata": {
    "collapsed": false
   },
   "outputs": [
    {
     "data": {
      "text/plain": [
       "\u001b[36me3k1\u001b[0m: \u001b[32mDouble\u001b[0m = \u001b[32m35.38344867440374\u001b[0m"
      ]
     },
     "metadata": {},
     "output_type": "display_data"
    }
   ],
   "source": [
    "val e3k1 = NumPredict.knnEstimate(data, IndexedSeq(99, 5), k = 1)"
   ]
  },
  {
   "cell_type": "code",
   "execution_count": null,
   "metadata": {
    "collapsed": true
   },
   "outputs": [],
   "source": []
  },
  {
   "cell_type": "code",
   "execution_count": 31,
   "metadata": {
    "collapsed": false
   },
   "outputs": [
    {
     "data": {
      "text/plain": [
       "\u001b[36msw\u001b[0m: \u001b[32mDouble\u001b[0m = \u001b[32m0.9\u001b[0m"
      ]
     },
     "metadata": {},
     "output_type": "display_data"
    }
   ],
   "source": [
    "val sw = NumPredict.SubtractWeight.weight(0.1)"
   ]
  },
  {
   "cell_type": "code",
   "execution_count": 32,
   "metadata": {
    "collapsed": false
   },
   "outputs": [
    {
     "data": {
      "text/plain": [
       "\u001b[36miw\u001b[0m: \u001b[32mDouble\u001b[0m = \u001b[32m5.0\u001b[0m"
      ]
     },
     "metadata": {},
     "output_type": "display_data"
    }
   ],
   "source": [
    "val iw = NumPredict.InverseWeight.weight(0.1)"
   ]
  },
  {
   "cell_type": "code",
   "execution_count": 33,
   "metadata": {
    "collapsed": false
   },
   "outputs": [
    {
     "data": {
      "text/plain": [
       "\u001b[36mgw\u001b[0m: \u001b[32mDouble\u001b[0m = \u001b[32m0.9950124791926823\u001b[0m"
      ]
     },
     "metadata": {},
     "output_type": "display_data"
    }
   ],
   "source": [
    "val gw = NumPredict.GaussianWeight.weight(0.1)"
   ]
  },
  {
   "cell_type": "code",
   "execution_count": 34,
   "metadata": {
    "collapsed": false
   },
   "outputs": [
    {
     "data": {
      "text/plain": [
       "\u001b[36mgw2\u001b[0m: \u001b[32mDouble\u001b[0m = \u001b[32m0.6065306597126334\u001b[0m"
      ]
     },
     "metadata": {},
     "output_type": "display_data"
    }
   ],
   "source": [
    "val gw2 = NumPredict.GaussianWeight.weight(1)"
   ]
  },
  {
   "cell_type": "code",
   "execution_count": 35,
   "metadata": {
    "collapsed": false
   },
   "outputs": [
    {
     "data": {
      "text/plain": [
       "\u001b[36mgw3\u001b[0m: \u001b[32mDouble\u001b[0m = \u001b[32m0.01110899653824231\u001b[0m"
      ]
     },
     "metadata": {},
     "output_type": "display_data"
    }
   ],
   "source": [
    "val gw3 = NumPredict.GaussianWeight.weight(3)"
   ]
  },
  {
   "cell_type": "code",
   "execution_count": 36,
   "metadata": {
    "collapsed": false
   },
   "outputs": [
    {
     "data": {
      "text/plain": [
       "\u001b[36miw2\u001b[0m: \u001b[32mDouble\u001b[0m = \u001b[32m0.9090909090909091\u001b[0m"
      ]
     },
     "metadata": {},
     "output_type": "display_data"
    }
   ],
   "source": [
    "val iw2 = NumPredict.InverseWeight.weight(1)"
   ]
  },
  {
   "cell_type": "code",
   "execution_count": 37,
   "metadata": {
    "collapsed": false
   },
   "outputs": [
    {
     "data": {
      "text/plain": [
       "\u001b[36ms2\u001b[0m: \u001b[32mDouble\u001b[0m = \u001b[32m0.0\u001b[0m"
      ]
     },
     "metadata": {},
     "output_type": "display_data"
    }
   ],
   "source": [
    "val s2 = NumPredict.SubtractWeight.weight(1)"
   ]
  },
  {
   "cell_type": "code",
   "execution_count": null,
   "metadata": {
    "collapsed": true
   },
   "outputs": [],
   "source": []
  },
  {
   "cell_type": "code",
   "execution_count": 38,
   "metadata": {
    "collapsed": false
   },
   "outputs": [
    {
     "data": {
      "text/plain": [
       "\u001b[36mwe\u001b[0m: \u001b[32mDouble\u001b[0m = \u001b[32m32.731502154493676\u001b[0m"
      ]
     },
     "metadata": {},
     "output_type": "display_data"
    }
   ],
   "source": [
    "val we = NumPredict.weightedKnn(data, IndexedSeq(99, 5))"
   ]
  },
  {
   "cell_type": "code",
   "execution_count": null,
   "metadata": {
    "collapsed": true
   },
   "outputs": [],
   "source": []
  }
 ],
 "metadata": {
  "kernelspec": {
   "display_name": "Scala 2.11",
   "language": "scala211",
   "name": "scala211"
  },
  "language_info": {
   "codemirror_mode": "text/x-scala",
   "file_extension": "scala",
   "mimetype": "text/x-scala",
   "name": "scala211",
   "pygments_lexer": "scala",
   "version": "2.11.6"
  }
 },
 "nbformat": 4,
 "nbformat_minor": 0
}
